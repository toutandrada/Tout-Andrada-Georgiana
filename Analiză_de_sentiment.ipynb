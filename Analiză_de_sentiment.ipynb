{
  "nbformat": 4,
  "nbformat_minor": 0,
  "metadata": {
    "colab": {
      "provenance": []
    },
    "kernelspec": {
      "name": "python3",
      "display_name": "Python 3"
    },
    "language_info": {
      "name": "python"
    }
  },
  "cells": [
    {
      "cell_type": "markdown",
      "source": [
        "## Analiză de sentiment\n",
        "AnalizaDeSentiment este un proiect care utilizează tehnici de preprocesare a textului și algoritmi de învățare automată pentru a analiza și a clasifica sentimentele exprimate în recenziile pentru restaurantele din SUA de pe platforma Yelp. Scopul proiectului este să ofere utilizatorilor o înțelegere mai profundă a feedback-ului și a percepției publicului despre diferite restaurante și servicii, folosind tehnici avansate de procesare a limbajului natural și modele de clasificare precum XGBoost. Prin analiza sentimentului, proiectul își propune să ofere insight-uri valoroase pentru utilizatorii interesați de evaluarea experiențelor din restaurante.\n"
      ],
      "metadata": {
        "id": "jmz6R-pjkO50"
      }
    },
    {
      "cell_type": "markdown",
      "source": [
        "### Importarea librăriilor"
      ],
      "metadata": {
        "id": "YF-Y_s7Nkhnv"
      }
    },
    {
      "cell_type": "code",
      "source": [
        "!pip install contractions"
      ],
      "metadata": {
        "colab": {
          "base_uri": "https://localhost:8080/"
        },
        "id": "BwO_o-YpMz9t",
        "outputId": "d378a3a0-398d-4d4f-9a80-1b61db448658"
      },
      "execution_count": null,
      "outputs": [
        {
          "output_type": "stream",
          "name": "stdout",
          "text": [
            "Requirement already satisfied: contractions in /usr/local/lib/python3.10/dist-packages (0.1.73)\n",
            "Requirement already satisfied: textsearch>=0.0.21 in /usr/local/lib/python3.10/dist-packages (from contractions) (0.0.24)\n",
            "Requirement already satisfied: anyascii in /usr/local/lib/python3.10/dist-packages (from textsearch>=0.0.21->contractions) (0.3.2)\n",
            "Requirement already satisfied: pyahocorasick in /usr/local/lib/python3.10/dist-packages (from textsearch>=0.0.21->contractions) (2.1.0)\n"
          ]
        }
      ]
    },
    {
      "cell_type": "code",
      "source": [
        "import pandas as pd\n",
        "import numpy as np\n",
        "\n",
        "from sklearn.feature_extraction.text import CountVectorizer\n",
        "from xgboost import XGBClassifier\n",
        "from sklearn.model_selection import train_test_split\n",
        "from sklearn.metrics import accuracy_score, confusion_matrix, classification_report, ConfusionMatrixDisplay, roc_curve, auc\n",
        "import gensim\n",
        "from gensim.models import Word2Vec\n",
        "import matplotlib.pyplot as plt\n",
        "import contractions\n",
        "import nltk\n",
        "nltk.download('stopwords')\n",
        "from nltk.corpus import stopwords\n",
        "nltk.download('punkt')\n",
        "from nltk.tokenize import word_tokenize\n",
        "import spacy\n",
        "nlp = spacy.load('en_core_web_sm')\n",
        "import re"
      ],
      "metadata": {
        "colab": {
          "base_uri": "https://localhost:8080/"
        },
        "id": "J3YgCMuYkQub",
        "outputId": "6f377531-fb34-4bb7-af1e-6e0312eefa51"
      },
      "execution_count": null,
      "outputs": [
        {
          "output_type": "stream",
          "name": "stderr",
          "text": [
            "[nltk_data] Downloading package stopwords to /root/nltk_data...\n",
            "[nltk_data]   Package stopwords is already up-to-date!\n",
            "[nltk_data] Downloading package punkt to /root/nltk_data...\n",
            "[nltk_data]   Package punkt is already up-to-date!\n"
          ]
        }
      ]
    },
    {
      "cell_type": "markdown",
      "source": [
        "### Citirea datelor"
      ],
      "metadata": {
        "id": "2UtY1GMOD8WS"
      }
    },
    {
      "cell_type": "code",
      "execution_count": null,
      "metadata": {
        "colab": {
          "base_uri": "https://localhost:8080/",
          "height": 237
        },
        "id": "84ZkdpPFj2oM",
        "outputId": "acabdc8d-1ee7-4f3e-c4ea-3724182871ea"
      },
      "outputs": [
        {
          "output_type": "execute_result",
          "data": {
            "text/plain": [
              "                  rest_id                                               text  \\\n",
              "0  L772e6l2Yd0DJEyCBxBNng  Everytime I'm in town I hit this place for cur...   \n",
              "1  L772e6l2Yd0DJEyCBxBNng  I go to State Street Brats every time I am in ...   \n",
              "2  L772e6l2Yd0DJEyCBxBNng  Two of us visited on a Thursday lunch.\\n\\nThe ...   \n",
              "3  L772e6l2Yd0DJEyCBxBNng  State street brats has a dress code that openl...   \n",
              "4  L772e6l2Yd0DJEyCBxBNng  Sad to have a place like this on campus in Mad...   \n",
              "5  L772e6l2Yd0DJEyCBxBNng  The waffles fries are great! Traditional Wisco...   \n",
              "\n",
              "   rating  \n",
              "0     5.0  \n",
              "1     4.0  \n",
              "2     3.0  \n",
              "3     1.0  \n",
              "4     1.0  \n",
              "5     3.0  "
            ],
            "text/html": [
              "\n",
              "  <div id=\"df-fe1975ea-7063-42a0-a021-e89178cdb0de\" class=\"colab-df-container\">\n",
              "    <div>\n",
              "<style scoped>\n",
              "    .dataframe tbody tr th:only-of-type {\n",
              "        vertical-align: middle;\n",
              "    }\n",
              "\n",
              "    .dataframe tbody tr th {\n",
              "        vertical-align: top;\n",
              "    }\n",
              "\n",
              "    .dataframe thead th {\n",
              "        text-align: right;\n",
              "    }\n",
              "</style>\n",
              "<table border=\"1\" class=\"dataframe\">\n",
              "  <thead>\n",
              "    <tr style=\"text-align: right;\">\n",
              "      <th></th>\n",
              "      <th>rest_id</th>\n",
              "      <th>text</th>\n",
              "      <th>rating</th>\n",
              "    </tr>\n",
              "  </thead>\n",
              "  <tbody>\n",
              "    <tr>\n",
              "      <th>0</th>\n",
              "      <td>L772e6l2Yd0DJEyCBxBNng</td>\n",
              "      <td>Everytime I'm in town I hit this place for cur...</td>\n",
              "      <td>5.0</td>\n",
              "    </tr>\n",
              "    <tr>\n",
              "      <th>1</th>\n",
              "      <td>L772e6l2Yd0DJEyCBxBNng</td>\n",
              "      <td>I go to State Street Brats every time I am in ...</td>\n",
              "      <td>4.0</td>\n",
              "    </tr>\n",
              "    <tr>\n",
              "      <th>2</th>\n",
              "      <td>L772e6l2Yd0DJEyCBxBNng</td>\n",
              "      <td>Two of us visited on a Thursday lunch.\\n\\nThe ...</td>\n",
              "      <td>3.0</td>\n",
              "    </tr>\n",
              "    <tr>\n",
              "      <th>3</th>\n",
              "      <td>L772e6l2Yd0DJEyCBxBNng</td>\n",
              "      <td>State street brats has a dress code that openl...</td>\n",
              "      <td>1.0</td>\n",
              "    </tr>\n",
              "    <tr>\n",
              "      <th>4</th>\n",
              "      <td>L772e6l2Yd0DJEyCBxBNng</td>\n",
              "      <td>Sad to have a place like this on campus in Mad...</td>\n",
              "      <td>1.0</td>\n",
              "    </tr>\n",
              "    <tr>\n",
              "      <th>5</th>\n",
              "      <td>L772e6l2Yd0DJEyCBxBNng</td>\n",
              "      <td>The waffles fries are great! Traditional Wisco...</td>\n",
              "      <td>3.0</td>\n",
              "    </tr>\n",
              "  </tbody>\n",
              "</table>\n",
              "</div>\n",
              "    <div class=\"colab-df-buttons\">\n",
              "\n",
              "  <div class=\"colab-df-container\">\n",
              "    <button class=\"colab-df-convert\" onclick=\"convertToInteractive('df-fe1975ea-7063-42a0-a021-e89178cdb0de')\"\n",
              "            title=\"Convert this dataframe to an interactive table.\"\n",
              "            style=\"display:none;\">\n",
              "\n",
              "  <svg xmlns=\"http://www.w3.org/2000/svg\" height=\"24px\" viewBox=\"0 -960 960 960\">\n",
              "    <path d=\"M120-120v-720h720v720H120Zm60-500h600v-160H180v160Zm220 220h160v-160H400v160Zm0 220h160v-160H400v160ZM180-400h160v-160H180v160Zm440 0h160v-160H620v160ZM180-180h160v-160H180v160Zm440 0h160v-160H620v160Z\"/>\n",
              "  </svg>\n",
              "    </button>\n",
              "\n",
              "  <style>\n",
              "    .colab-df-container {\n",
              "      display:flex;\n",
              "      gap: 12px;\n",
              "    }\n",
              "\n",
              "    .colab-df-convert {\n",
              "      background-color: #E8F0FE;\n",
              "      border: none;\n",
              "      border-radius: 50%;\n",
              "      cursor: pointer;\n",
              "      display: none;\n",
              "      fill: #1967D2;\n",
              "      height: 32px;\n",
              "      padding: 0 0 0 0;\n",
              "      width: 32px;\n",
              "    }\n",
              "\n",
              "    .colab-df-convert:hover {\n",
              "      background-color: #E2EBFA;\n",
              "      box-shadow: 0px 1px 2px rgba(60, 64, 67, 0.3), 0px 1px 3px 1px rgba(60, 64, 67, 0.15);\n",
              "      fill: #174EA6;\n",
              "    }\n",
              "\n",
              "    .colab-df-buttons div {\n",
              "      margin-bottom: 4px;\n",
              "    }\n",
              "\n",
              "    [theme=dark] .colab-df-convert {\n",
              "      background-color: #3B4455;\n",
              "      fill: #D2E3FC;\n",
              "    }\n",
              "\n",
              "    [theme=dark] .colab-df-convert:hover {\n",
              "      background-color: #434B5C;\n",
              "      box-shadow: 0px 1px 3px 1px rgba(0, 0, 0, 0.15);\n",
              "      filter: drop-shadow(0px 1px 2px rgba(0, 0, 0, 0.3));\n",
              "      fill: #FFFFFF;\n",
              "    }\n",
              "  </style>\n",
              "\n",
              "    <script>\n",
              "      const buttonEl =\n",
              "        document.querySelector('#df-fe1975ea-7063-42a0-a021-e89178cdb0de button.colab-df-convert');\n",
              "      buttonEl.style.display =\n",
              "        google.colab.kernel.accessAllowed ? 'block' : 'none';\n",
              "\n",
              "      async function convertToInteractive(key) {\n",
              "        const element = document.querySelector('#df-fe1975ea-7063-42a0-a021-e89178cdb0de');\n",
              "        const dataTable =\n",
              "          await google.colab.kernel.invokeFunction('convertToInteractive',\n",
              "                                                    [key], {});\n",
              "        if (!dataTable) return;\n",
              "\n",
              "        const docLinkHtml = 'Like what you see? Visit the ' +\n",
              "          '<a target=\"_blank\" href=https://colab.research.google.com/notebooks/data_table.ipynb>data table notebook</a>'\n",
              "          + ' to learn more about interactive tables.';\n",
              "        element.innerHTML = '';\n",
              "        dataTable['output_type'] = 'display_data';\n",
              "        await google.colab.output.renderOutput(dataTable, element);\n",
              "        const docLink = document.createElement('div');\n",
              "        docLink.innerHTML = docLinkHtml;\n",
              "        element.appendChild(docLink);\n",
              "      }\n",
              "    </script>\n",
              "  </div>\n",
              "\n",
              "\n",
              "<div id=\"df-f2426b98-f4f0-4464-b184-9f9989171284\">\n",
              "  <button class=\"colab-df-quickchart\" onclick=\"quickchart('df-f2426b98-f4f0-4464-b184-9f9989171284')\"\n",
              "            title=\"Suggest charts\"\n",
              "            style=\"display:none;\">\n",
              "\n",
              "<svg xmlns=\"http://www.w3.org/2000/svg\" height=\"24px\"viewBox=\"0 0 24 24\"\n",
              "     width=\"24px\">\n",
              "    <g>\n",
              "        <path d=\"M19 3H5c-1.1 0-2 .9-2 2v14c0 1.1.9 2 2 2h14c1.1 0 2-.9 2-2V5c0-1.1-.9-2-2-2zM9 17H7v-7h2v7zm4 0h-2V7h2v10zm4 0h-2v-4h2v4z\"/>\n",
              "    </g>\n",
              "</svg>\n",
              "  </button>\n",
              "\n",
              "<style>\n",
              "  .colab-df-quickchart {\n",
              "      --bg-color: #E8F0FE;\n",
              "      --fill-color: #1967D2;\n",
              "      --hover-bg-color: #E2EBFA;\n",
              "      --hover-fill-color: #174EA6;\n",
              "      --disabled-fill-color: #AAA;\n",
              "      --disabled-bg-color: #DDD;\n",
              "  }\n",
              "\n",
              "  [theme=dark] .colab-df-quickchart {\n",
              "      --bg-color: #3B4455;\n",
              "      --fill-color: #D2E3FC;\n",
              "      --hover-bg-color: #434B5C;\n",
              "      --hover-fill-color: #FFFFFF;\n",
              "      --disabled-bg-color: #3B4455;\n",
              "      --disabled-fill-color: #666;\n",
              "  }\n",
              "\n",
              "  .colab-df-quickchart {\n",
              "    background-color: var(--bg-color);\n",
              "    border: none;\n",
              "    border-radius: 50%;\n",
              "    cursor: pointer;\n",
              "    display: none;\n",
              "    fill: var(--fill-color);\n",
              "    height: 32px;\n",
              "    padding: 0;\n",
              "    width: 32px;\n",
              "  }\n",
              "\n",
              "  .colab-df-quickchart:hover {\n",
              "    background-color: var(--hover-bg-color);\n",
              "    box-shadow: 0 1px 2px rgba(60, 64, 67, 0.3), 0 1px 3px 1px rgba(60, 64, 67, 0.15);\n",
              "    fill: var(--button-hover-fill-color);\n",
              "  }\n",
              "\n",
              "  .colab-df-quickchart-complete:disabled,\n",
              "  .colab-df-quickchart-complete:disabled:hover {\n",
              "    background-color: var(--disabled-bg-color);\n",
              "    fill: var(--disabled-fill-color);\n",
              "    box-shadow: none;\n",
              "  }\n",
              "\n",
              "  .colab-df-spinner {\n",
              "    border: 2px solid var(--fill-color);\n",
              "    border-color: transparent;\n",
              "    border-bottom-color: var(--fill-color);\n",
              "    animation:\n",
              "      spin 1s steps(1) infinite;\n",
              "  }\n",
              "\n",
              "  @keyframes spin {\n",
              "    0% {\n",
              "      border-color: transparent;\n",
              "      border-bottom-color: var(--fill-color);\n",
              "      border-left-color: var(--fill-color);\n",
              "    }\n",
              "    20% {\n",
              "      border-color: transparent;\n",
              "      border-left-color: var(--fill-color);\n",
              "      border-top-color: var(--fill-color);\n",
              "    }\n",
              "    30% {\n",
              "      border-color: transparent;\n",
              "      border-left-color: var(--fill-color);\n",
              "      border-top-color: var(--fill-color);\n",
              "      border-right-color: var(--fill-color);\n",
              "    }\n",
              "    40% {\n",
              "      border-color: transparent;\n",
              "      border-right-color: var(--fill-color);\n",
              "      border-top-color: var(--fill-color);\n",
              "    }\n",
              "    60% {\n",
              "      border-color: transparent;\n",
              "      border-right-color: var(--fill-color);\n",
              "    }\n",
              "    80% {\n",
              "      border-color: transparent;\n",
              "      border-right-color: var(--fill-color);\n",
              "      border-bottom-color: var(--fill-color);\n",
              "    }\n",
              "    90% {\n",
              "      border-color: transparent;\n",
              "      border-bottom-color: var(--fill-color);\n",
              "    }\n",
              "  }\n",
              "</style>\n",
              "\n",
              "  <script>\n",
              "    async function quickchart(key) {\n",
              "      const quickchartButtonEl =\n",
              "        document.querySelector('#' + key + ' button');\n",
              "      quickchartButtonEl.disabled = true;  // To prevent multiple clicks.\n",
              "      quickchartButtonEl.classList.add('colab-df-spinner');\n",
              "      try {\n",
              "        const charts = await google.colab.kernel.invokeFunction(\n",
              "            'suggestCharts', [key], {});\n",
              "      } catch (error) {\n",
              "        console.error('Error during call to suggestCharts:', error);\n",
              "      }\n",
              "      quickchartButtonEl.classList.remove('colab-df-spinner');\n",
              "      quickchartButtonEl.classList.add('colab-df-quickchart-complete');\n",
              "    }\n",
              "    (() => {\n",
              "      let quickchartButtonEl =\n",
              "        document.querySelector('#df-f2426b98-f4f0-4464-b184-9f9989171284 button');\n",
              "      quickchartButtonEl.style.display =\n",
              "        google.colab.kernel.accessAllowed ? 'block' : 'none';\n",
              "    })();\n",
              "  </script>\n",
              "</div>\n",
              "    </div>\n",
              "  </div>\n"
            ],
            "application/vnd.google.colaboratory.intrinsic+json": {
              "type": "dataframe",
              "variable_name": "reviews",
              "summary": "{\n  \"name\": \"reviews\",\n  \"rows\": 11344,\n  \"fields\": [\n    {\n      \"column\": \"rest_id\",\n      \"properties\": {\n        \"dtype\": \"category\",\n        \"num_unique_values\": 753,\n        \"samples\": [\n          \"ITieHQ8UwKq74FnqTKnPOQ\",\n          \"YXe8DxId7IpkW-bUCdfGIg\",\n          \"aUrOyWFKxKeVXiFzwbTXSA\"\n        ],\n        \"semantic_type\": \"\",\n        \"description\": \"\"\n      }\n    },\n    {\n      \"column\": \"text\",\n      \"properties\": {\n        \"dtype\": \"string\",\n        \"num_unique_values\": 11320,\n        \"samples\": [\n          \"Great food, when it finally shows up. I love the Glass Nickle on Atwood and gave this location 5 chances but they did not deliver. Mostly literally. The food was up to par but food was ready at least 45 minutes later than they told me all but one time. If they could consistently deliver on time they would be great but they cannot. If you are willing to wait 2 hours for delivery or an hour and a half for takeout order from here. But know you will probably have given up and eaten your shoe leather before food arrives.\",\n          \"Wow - I haven't been to Michael's in awhile. Couldn't believe their prices!  $6.49 for a SMALL malt? Add to that 2 staff, neither of whom were particularly welcoming. Culver's, here I come!\",\n          \"Hold on, I'm still noming on my delicious Dukbokki and kimchi pancake right now to type a full review but this is my second time here and everything I've gotten is oh so good and authentic. \\n\\nThey do not skimp on the finely ground dried chili pepper here (gochugaru )! \\n\\nThere are no pre portioned or premixed ingredients here, you can see the hardworking ajumma cooking your dish in their open kitchen right where you walk in.\\n\\nK brb\"\n        ],\n        \"semantic_type\": \"\",\n        \"description\": \"\"\n      }\n    },\n    {\n      \"column\": \"rating\",\n      \"properties\": {\n        \"dtype\": \"number\",\n        \"std\": 1.3298408603276115,\n        \"min\": 1.0,\n        \"max\": 5.0,\n        \"num_unique_values\": 5,\n        \"samples\": [\n          4.0,\n          2.0,\n          3.0\n        ],\n        \"semantic_type\": \"\",\n        \"description\": \"\"\n      }\n    }\n  ]\n}"
            }
          },
          "metadata": {},
          "execution_count": 35
        }
      ],
      "source": [
        "url = 'https://github.com/berinde/curs-analiza-datelor-complexe/blob/main/data/input/set_date_examen1.csv?raw=True'\n",
        "reviews = pd.read_csv(url)\n",
        "reviews.head(6)"
      ]
    },
    {
      "cell_type": "markdown",
      "source": [
        "### Curățarea datelor"
      ],
      "metadata": {
        "id": "5fg_xowAnwPu"
      }
    },
    {
      "cell_type": "code",
      "source": [
        "# Informații despre recenzii\n",
        "reviews.info()"
      ],
      "metadata": {
        "colab": {
          "base_uri": "https://localhost:8080/"
        },
        "id": "zgnqHrTin6Wm",
        "outputId": "363911ad-9348-4404-c324-e39ad4d29d70"
      },
      "execution_count": null,
      "outputs": [
        {
          "output_type": "stream",
          "name": "stdout",
          "text": [
            "<class 'pandas.core.frame.DataFrame'>\n",
            "RangeIndex: 11344 entries, 0 to 11343\n",
            "Data columns (total 3 columns):\n",
            " #   Column   Non-Null Count  Dtype  \n",
            "---  ------   --------------  -----  \n",
            " 0   rest_id  11344 non-null  object \n",
            " 1   text     11344 non-null  object \n",
            " 2   rating   11344 non-null  float64\n",
            "dtypes: float64(1), object(2)\n",
            "memory usage: 266.0+ KB\n"
          ]
        }
      ]
    },
    {
      "cell_type": "code",
      "source": [
        "# Numărul de recenzii pt fiecare rating\n",
        "reviews['rating'].value_counts()"
      ],
      "metadata": {
        "colab": {
          "base_uri": "https://localhost:8080/"
        },
        "id": "YfYv0NjasIA7",
        "outputId": "40b265f5-aae6-4c0f-baba-e791284934bd"
      },
      "execution_count": null,
      "outputs": [
        {
          "output_type": "execute_result",
          "data": {
            "text/plain": [
              "5.0    4618\n",
              "4.0    3138\n",
              "3.0    1407\n",
              "1.0    1156\n",
              "2.0    1025\n",
              "Name: rating, dtype: int64"
            ]
          },
          "metadata": {},
          "execution_count": 37
        }
      ]
    },
    {
      "cell_type": "code",
      "source": [
        "# Numărul total de recenzii\n",
        "total_reviews = reviews.shape[0]\n",
        "print(\"Numărul total de recenzii:\", total_reviews)"
      ],
      "metadata": {
        "colab": {
          "base_uri": "https://localhost:8080/"
        },
        "id": "Opi-XIWpyKCF",
        "outputId": "cfc3e3ae-e02b-4fd8-ec32-e86c27867b7c"
      },
      "execution_count": null,
      "outputs": [
        {
          "output_type": "stream",
          "name": "stdout",
          "text": [
            "Numărul total de recenzii: 11344\n"
          ]
        }
      ]
    },
    {
      "cell_type": "code",
      "source": [
        "# Convertirea recenziilor din tip float în tip integer\n",
        "reviews['rating'] = reviews['rating'].astype(int)"
      ],
      "metadata": {
        "id": "YF88Nq9sz_vu"
      },
      "execution_count": null,
      "outputs": []
    },
    {
      "cell_type": "markdown",
      "source": [
        "#### Din cauza faptului că ratingul 3 poate fi considerat neutru și poate conține opinii ambiguu exprimate sau echilibrate, care nu sunt foarte utile pentru clasificarea în sentimente pozitive sau negative, am hotărât să îl elimin. Prin eliminarea acestor ratinguri, pot simplifica problema la două clase principale: pozitive și negative."
      ],
      "metadata": {
        "id": "KBOrt3Ej0MSU"
      }
    },
    {
      "cell_type": "code",
      "source": [
        "# Eliminarea recenziilor cu rating 3\n",
        "reviews = reviews[reviews['rating']!=3].reset_index(drop=True)\n",
        "\n",
        "# Verificarea distribuției ratingurilor actualizată\n",
        "print(\"Distribuția ratingurilor după eliminarea ratingului 3:\")\n",
        "print(reviews['rating'].value_counts())"
      ],
      "metadata": {
        "colab": {
          "base_uri": "https://localhost:8080/"
        },
        "id": "9y8ktxjE0K-B",
        "outputId": "807cfcd7-41ec-41fb-f874-15b8de4b9685"
      },
      "execution_count": null,
      "outputs": [
        {
          "output_type": "stream",
          "name": "stdout",
          "text": [
            "Distribuția ratingurilor după eliminarea ratingului 3:\n",
            "5    4618\n",
            "4    3138\n",
            "1    1156\n",
            "2    1025\n",
            "Name: rating, dtype: int64\n"
          ]
        }
      ]
    },
    {
      "cell_type": "code",
      "source": [
        "# Numărul total de recenzii după eliminarea ratingului 3\n",
        "total_reviews_after_removal = reviews.shape[0]\n",
        "print(\"Numărul total de recenzii după eliminarea ratingului 3:\", total_reviews_after_removal)"
      ],
      "metadata": {
        "colab": {
          "base_uri": "https://localhost:8080/"
        },
        "id": "b4ShdMB-Aiza",
        "outputId": "df5a8ac7-2cf8-49e6-d07f-35caa4e62241"
      },
      "execution_count": null,
      "outputs": [
        {
          "output_type": "stream",
          "name": "stdout",
          "text": [
            "Numărul total de recenzii după eliminarea ratingului 3: 9937\n"
          ]
        }
      ]
    },
    {
      "cell_type": "markdown",
      "source": [
        "### Adaug o nouă coloană care să clasifice ratingul in negativ (0) si pozitiv (1)"
      ],
      "metadata": {
        "id": "ZMIk7_hiEDom"
      }
    },
    {
      "cell_type": "code",
      "source": [
        "# Crearea unei coloane noi 'positive' în funcție de ratinguri\n",
        "reviews['positive'] = np.where(reviews['rating'] < 3, 0, 1)\n",
        "\n",
        "# Verificarea distribuției noii coloane\n",
        "print('Numărul de recenzii pozitive', len(reviews[reviews['positive']==1]))\n",
        "print('Numărul de recenzii negative', len(reviews[reviews['positive']==0]))"
      ],
      "metadata": {
        "colab": {
          "base_uri": "https://localhost:8080/"
        },
        "id": "ztGDtc8VDY39",
        "outputId": "9c9404e8-1892-4a5c-deb2-67d49df44bbd"
      },
      "execution_count": null,
      "outputs": [
        {
          "output_type": "stream",
          "name": "stdout",
          "text": [
            "Numărul de recenzii pozitive 7756\n",
            "Numărul de recenzii negative 2181\n"
          ]
        }
      ]
    },
    {
      "cell_type": "markdown",
      "source": [
        "### Procesarea textului"
      ],
      "metadata": {
        "id": "FrDPksO3Kh-C"
      }
    },
    {
      "cell_type": "code",
      "source": [
        "recenzie_test = reviews['text'].iloc[0]\n",
        "recenzie_test"
      ],
      "metadata": {
        "colab": {
          "base_uri": "https://localhost:8080/",
          "height": 53
        },
        "id": "4Cpbp1OeDwzk",
        "outputId": "3b77fec9-9c82-4c68-f6a4-d0e0359d0e11"
      },
      "execution_count": null,
      "outputs": [
        {
          "output_type": "execute_result",
          "data": {
            "text/plain": [
              "\"Everytime I'm in town I hit this place for curds, beer and brats. I spent a whole Sunday watching football here and had a blast. Crowded times are a little annoying, but it is a college place. Love the mustard selections too. Curds are a must!\""
            ],
            "application/vnd.google.colaboratory.intrinsic+json": {
              "type": "string"
            }
          },
          "metadata": {},
          "execution_count": 43
        }
      ]
    },
    {
      "cell_type": "code",
      "source": [
        "reviews.head()"
      ],
      "metadata": {
        "colab": {
          "base_uri": "https://localhost:8080/",
          "height": 206
        },
        "id": "VdLolezyNnS4",
        "outputId": "ee18c9e8-77ea-4a4b-a34d-7c1e31e3a52f"
      },
      "execution_count": null,
      "outputs": [
        {
          "output_type": "execute_result",
          "data": {
            "text/plain": [
              "                  rest_id                                               text  \\\n",
              "0  L772e6l2Yd0DJEyCBxBNng  Everytime I'm in town I hit this place for cur...   \n",
              "1  L772e6l2Yd0DJEyCBxBNng  I go to State Street Brats every time I am in ...   \n",
              "2  L772e6l2Yd0DJEyCBxBNng  State street brats has a dress code that openl...   \n",
              "3  L772e6l2Yd0DJEyCBxBNng  Sad to have a place like this on campus in Mad...   \n",
              "4  L772e6l2Yd0DJEyCBxBNng  Place was busy when we got there but the servi...   \n",
              "\n",
              "   rating  positive  \n",
              "0       5         1  \n",
              "1       4         1  \n",
              "2       1         0  \n",
              "3       1         0  \n",
              "4       5         1  "
            ],
            "text/html": [
              "\n",
              "  <div id=\"df-1a77f3f4-4f29-4b6a-805a-65e4221f2cbe\" class=\"colab-df-container\">\n",
              "    <div>\n",
              "<style scoped>\n",
              "    .dataframe tbody tr th:only-of-type {\n",
              "        vertical-align: middle;\n",
              "    }\n",
              "\n",
              "    .dataframe tbody tr th {\n",
              "        vertical-align: top;\n",
              "    }\n",
              "\n",
              "    .dataframe thead th {\n",
              "        text-align: right;\n",
              "    }\n",
              "</style>\n",
              "<table border=\"1\" class=\"dataframe\">\n",
              "  <thead>\n",
              "    <tr style=\"text-align: right;\">\n",
              "      <th></th>\n",
              "      <th>rest_id</th>\n",
              "      <th>text</th>\n",
              "      <th>rating</th>\n",
              "      <th>positive</th>\n",
              "    </tr>\n",
              "  </thead>\n",
              "  <tbody>\n",
              "    <tr>\n",
              "      <th>0</th>\n",
              "      <td>L772e6l2Yd0DJEyCBxBNng</td>\n",
              "      <td>Everytime I'm in town I hit this place for cur...</td>\n",
              "      <td>5</td>\n",
              "      <td>1</td>\n",
              "    </tr>\n",
              "    <tr>\n",
              "      <th>1</th>\n",
              "      <td>L772e6l2Yd0DJEyCBxBNng</td>\n",
              "      <td>I go to State Street Brats every time I am in ...</td>\n",
              "      <td>4</td>\n",
              "      <td>1</td>\n",
              "    </tr>\n",
              "    <tr>\n",
              "      <th>2</th>\n",
              "      <td>L772e6l2Yd0DJEyCBxBNng</td>\n",
              "      <td>State street brats has a dress code that openl...</td>\n",
              "      <td>1</td>\n",
              "      <td>0</td>\n",
              "    </tr>\n",
              "    <tr>\n",
              "      <th>3</th>\n",
              "      <td>L772e6l2Yd0DJEyCBxBNng</td>\n",
              "      <td>Sad to have a place like this on campus in Mad...</td>\n",
              "      <td>1</td>\n",
              "      <td>0</td>\n",
              "    </tr>\n",
              "    <tr>\n",
              "      <th>4</th>\n",
              "      <td>L772e6l2Yd0DJEyCBxBNng</td>\n",
              "      <td>Place was busy when we got there but the servi...</td>\n",
              "      <td>5</td>\n",
              "      <td>1</td>\n",
              "    </tr>\n",
              "  </tbody>\n",
              "</table>\n",
              "</div>\n",
              "    <div class=\"colab-df-buttons\">\n",
              "\n",
              "  <div class=\"colab-df-container\">\n",
              "    <button class=\"colab-df-convert\" onclick=\"convertToInteractive('df-1a77f3f4-4f29-4b6a-805a-65e4221f2cbe')\"\n",
              "            title=\"Convert this dataframe to an interactive table.\"\n",
              "            style=\"display:none;\">\n",
              "\n",
              "  <svg xmlns=\"http://www.w3.org/2000/svg\" height=\"24px\" viewBox=\"0 -960 960 960\">\n",
              "    <path d=\"M120-120v-720h720v720H120Zm60-500h600v-160H180v160Zm220 220h160v-160H400v160Zm0 220h160v-160H400v160ZM180-400h160v-160H180v160Zm440 0h160v-160H620v160ZM180-180h160v-160H180v160Zm440 0h160v-160H620v160Z\"/>\n",
              "  </svg>\n",
              "    </button>\n",
              "\n",
              "  <style>\n",
              "    .colab-df-container {\n",
              "      display:flex;\n",
              "      gap: 12px;\n",
              "    }\n",
              "\n",
              "    .colab-df-convert {\n",
              "      background-color: #E8F0FE;\n",
              "      border: none;\n",
              "      border-radius: 50%;\n",
              "      cursor: pointer;\n",
              "      display: none;\n",
              "      fill: #1967D2;\n",
              "      height: 32px;\n",
              "      padding: 0 0 0 0;\n",
              "      width: 32px;\n",
              "    }\n",
              "\n",
              "    .colab-df-convert:hover {\n",
              "      background-color: #E2EBFA;\n",
              "      box-shadow: 0px 1px 2px rgba(60, 64, 67, 0.3), 0px 1px 3px 1px rgba(60, 64, 67, 0.15);\n",
              "      fill: #174EA6;\n",
              "    }\n",
              "\n",
              "    .colab-df-buttons div {\n",
              "      margin-bottom: 4px;\n",
              "    }\n",
              "\n",
              "    [theme=dark] .colab-df-convert {\n",
              "      background-color: #3B4455;\n",
              "      fill: #D2E3FC;\n",
              "    }\n",
              "\n",
              "    [theme=dark] .colab-df-convert:hover {\n",
              "      background-color: #434B5C;\n",
              "      box-shadow: 0px 1px 3px 1px rgba(0, 0, 0, 0.15);\n",
              "      filter: drop-shadow(0px 1px 2px rgba(0, 0, 0, 0.3));\n",
              "      fill: #FFFFFF;\n",
              "    }\n",
              "  </style>\n",
              "\n",
              "    <script>\n",
              "      const buttonEl =\n",
              "        document.querySelector('#df-1a77f3f4-4f29-4b6a-805a-65e4221f2cbe button.colab-df-convert');\n",
              "      buttonEl.style.display =\n",
              "        google.colab.kernel.accessAllowed ? 'block' : 'none';\n",
              "\n",
              "      async function convertToInteractive(key) {\n",
              "        const element = document.querySelector('#df-1a77f3f4-4f29-4b6a-805a-65e4221f2cbe');\n",
              "        const dataTable =\n",
              "          await google.colab.kernel.invokeFunction('convertToInteractive',\n",
              "                                                    [key], {});\n",
              "        if (!dataTable) return;\n",
              "\n",
              "        const docLinkHtml = 'Like what you see? Visit the ' +\n",
              "          '<a target=\"_blank\" href=https://colab.research.google.com/notebooks/data_table.ipynb>data table notebook</a>'\n",
              "          + ' to learn more about interactive tables.';\n",
              "        element.innerHTML = '';\n",
              "        dataTable['output_type'] = 'display_data';\n",
              "        await google.colab.output.renderOutput(dataTable, element);\n",
              "        const docLink = document.createElement('div');\n",
              "        docLink.innerHTML = docLinkHtml;\n",
              "        element.appendChild(docLink);\n",
              "      }\n",
              "    </script>\n",
              "  </div>\n",
              "\n",
              "\n",
              "<div id=\"df-8849381c-3fff-4457-924c-9327811e14b3\">\n",
              "  <button class=\"colab-df-quickchart\" onclick=\"quickchart('df-8849381c-3fff-4457-924c-9327811e14b3')\"\n",
              "            title=\"Suggest charts\"\n",
              "            style=\"display:none;\">\n",
              "\n",
              "<svg xmlns=\"http://www.w3.org/2000/svg\" height=\"24px\"viewBox=\"0 0 24 24\"\n",
              "     width=\"24px\">\n",
              "    <g>\n",
              "        <path d=\"M19 3H5c-1.1 0-2 .9-2 2v14c0 1.1.9 2 2 2h14c1.1 0 2-.9 2-2V5c0-1.1-.9-2-2-2zM9 17H7v-7h2v7zm4 0h-2V7h2v10zm4 0h-2v-4h2v4z\"/>\n",
              "    </g>\n",
              "</svg>\n",
              "  </button>\n",
              "\n",
              "<style>\n",
              "  .colab-df-quickchart {\n",
              "      --bg-color: #E8F0FE;\n",
              "      --fill-color: #1967D2;\n",
              "      --hover-bg-color: #E2EBFA;\n",
              "      --hover-fill-color: #174EA6;\n",
              "      --disabled-fill-color: #AAA;\n",
              "      --disabled-bg-color: #DDD;\n",
              "  }\n",
              "\n",
              "  [theme=dark] .colab-df-quickchart {\n",
              "      --bg-color: #3B4455;\n",
              "      --fill-color: #D2E3FC;\n",
              "      --hover-bg-color: #434B5C;\n",
              "      --hover-fill-color: #FFFFFF;\n",
              "      --disabled-bg-color: #3B4455;\n",
              "      --disabled-fill-color: #666;\n",
              "  }\n",
              "\n",
              "  .colab-df-quickchart {\n",
              "    background-color: var(--bg-color);\n",
              "    border: none;\n",
              "    border-radius: 50%;\n",
              "    cursor: pointer;\n",
              "    display: none;\n",
              "    fill: var(--fill-color);\n",
              "    height: 32px;\n",
              "    padding: 0;\n",
              "    width: 32px;\n",
              "  }\n",
              "\n",
              "  .colab-df-quickchart:hover {\n",
              "    background-color: var(--hover-bg-color);\n",
              "    box-shadow: 0 1px 2px rgba(60, 64, 67, 0.3), 0 1px 3px 1px rgba(60, 64, 67, 0.15);\n",
              "    fill: var(--button-hover-fill-color);\n",
              "  }\n",
              "\n",
              "  .colab-df-quickchart-complete:disabled,\n",
              "  .colab-df-quickchart-complete:disabled:hover {\n",
              "    background-color: var(--disabled-bg-color);\n",
              "    fill: var(--disabled-fill-color);\n",
              "    box-shadow: none;\n",
              "  }\n",
              "\n",
              "  .colab-df-spinner {\n",
              "    border: 2px solid var(--fill-color);\n",
              "    border-color: transparent;\n",
              "    border-bottom-color: var(--fill-color);\n",
              "    animation:\n",
              "      spin 1s steps(1) infinite;\n",
              "  }\n",
              "\n",
              "  @keyframes spin {\n",
              "    0% {\n",
              "      border-color: transparent;\n",
              "      border-bottom-color: var(--fill-color);\n",
              "      border-left-color: var(--fill-color);\n",
              "    }\n",
              "    20% {\n",
              "      border-color: transparent;\n",
              "      border-left-color: var(--fill-color);\n",
              "      border-top-color: var(--fill-color);\n",
              "    }\n",
              "    30% {\n",
              "      border-color: transparent;\n",
              "      border-left-color: var(--fill-color);\n",
              "      border-top-color: var(--fill-color);\n",
              "      border-right-color: var(--fill-color);\n",
              "    }\n",
              "    40% {\n",
              "      border-color: transparent;\n",
              "      border-right-color: var(--fill-color);\n",
              "      border-top-color: var(--fill-color);\n",
              "    }\n",
              "    60% {\n",
              "      border-color: transparent;\n",
              "      border-right-color: var(--fill-color);\n",
              "    }\n",
              "    80% {\n",
              "      border-color: transparent;\n",
              "      border-right-color: var(--fill-color);\n",
              "      border-bottom-color: var(--fill-color);\n",
              "    }\n",
              "    90% {\n",
              "      border-color: transparent;\n",
              "      border-bottom-color: var(--fill-color);\n",
              "    }\n",
              "  }\n",
              "</style>\n",
              "\n",
              "  <script>\n",
              "    async function quickchart(key) {\n",
              "      const quickchartButtonEl =\n",
              "        document.querySelector('#' + key + ' button');\n",
              "      quickchartButtonEl.disabled = true;  // To prevent multiple clicks.\n",
              "      quickchartButtonEl.classList.add('colab-df-spinner');\n",
              "      try {\n",
              "        const charts = await google.colab.kernel.invokeFunction(\n",
              "            'suggestCharts', [key], {});\n",
              "      } catch (error) {\n",
              "        console.error('Error during call to suggestCharts:', error);\n",
              "      }\n",
              "      quickchartButtonEl.classList.remove('colab-df-spinner');\n",
              "      quickchartButtonEl.classList.add('colab-df-quickchart-complete');\n",
              "    }\n",
              "    (() => {\n",
              "      let quickchartButtonEl =\n",
              "        document.querySelector('#df-8849381c-3fff-4457-924c-9327811e14b3 button');\n",
              "      quickchartButtonEl.style.display =\n",
              "        google.colab.kernel.accessAllowed ? 'block' : 'none';\n",
              "    })();\n",
              "  </script>\n",
              "</div>\n",
              "    </div>\n",
              "  </div>\n"
            ],
            "application/vnd.google.colaboratory.intrinsic+json": {
              "type": "dataframe",
              "variable_name": "reviews",
              "summary": "{\n  \"name\": \"reviews\",\n  \"rows\": 9937,\n  \"fields\": [\n    {\n      \"column\": \"rest_id\",\n      \"properties\": {\n        \"dtype\": \"category\",\n        \"num_unique_values\": 743,\n        \"samples\": [\n          \"u_A58uX7x7AEOKOboFGFpg\",\n          \"fpwMWuKAR8joNW1B4N3e5w\",\n          \"EKNm59ZMMRvb8N8Cm5F8Qw\"\n        ],\n        \"semantic_type\": \"\",\n        \"description\": \"\"\n      }\n    },\n    {\n      \"column\": \"text\",\n      \"properties\": {\n        \"dtype\": \"string\",\n        \"num_unique_values\": 9917,\n        \"samples\": [\n          \"I absolutely love La Baguette. From their excellent authentic French desserts to their breads, everything I have tried was superb.  If you are looking for an \\\"American French\\\" restaurant, you can go somewhere else. Having traveled to France, this bakery made me feel like I was back in Europe. The family that runs the business has always been friendly to me each time I visited. If you are courteous to them, they will be courteous to you! Their goat cheese quiche and macarons are my favorite items. Bring cash, or a local check to pay.\",\n          \"My wife selected Sardine for brunch as a pre-anniversary meal. I was disinclined to go because my experiences with French restaurants, both in Los Angeles and NYC have always been too much dough for not enough go; said simply tiny portions with high tariff (think nouvelle cuisine as it was presented to Steve Martin in LA Story).\\n\\nThis was not the case at all here. I had the rib eye steak and poached eggs. Not only was the food prepared exactly as requested and delicious, but the portion was perfect; it could be argued that this menu item is the sleeper; a real value proposition.\\n\\nWe will be returning for dinner. It is great when expectations are shattered for the better.\",\n          \"Madison tap is great.  Beautiful courtyard, nice people.  Good music.  Check it out.  Don't wait!\"\n        ],\n        \"semantic_type\": \"\",\n        \"description\": \"\"\n      }\n    },\n    {\n      \"column\": \"rating\",\n      \"properties\": {\n        \"dtype\": \"number\",\n        \"std\": 1,\n        \"min\": 1,\n        \"max\": 5,\n        \"num_unique_values\": 4,\n        \"samples\": [\n          4,\n          2,\n          5\n        ],\n        \"semantic_type\": \"\",\n        \"description\": \"\"\n      }\n    },\n    {\n      \"column\": \"positive\",\n      \"properties\": {\n        \"dtype\": \"number\",\n        \"std\": 0,\n        \"min\": 0,\n        \"max\": 1,\n        \"num_unique_values\": 2,\n        \"samples\": [\n          0,\n          1\n        ],\n        \"semantic_type\": \"\",\n        \"description\": \"\"\n      }\n    }\n  ]\n}"
            }
          },
          "metadata": {},
          "execution_count": 44
        }
      ]
    },
    {
      "cell_type": "code",
      "source": [
        "def preprocesare_text(document):\n",
        "    # Convertesc textul în text scris cu literă mică\n",
        "    document = document.lower()\n",
        "    # Înlocuiesc formele scurte (contractions)\n",
        "    document = contractions.fix(document)\n",
        "    # Regex\n",
        "    # ^ = NOT\n",
        "    document = re.sub(r'[^\\w\\s]', ' ', document)\n",
        "    document = re.sub(r'[^a-z ]', '', document)\n",
        "    # Împart documentul în cuvinte (tokenization)\n",
        "    document = word_tokenize(document)\n",
        "    # Înlătur cuvintele comune (stopwords)\n",
        "    cuv_comune = stopwords.words('english')\n",
        "    document = [element for element in document if element not in cuv_comune]\n",
        "    # Convertesc din lista de cuvinte în string\n",
        "    document = \" \".join(document)\n",
        "    # Reduc cuvântul la lema sa (Lemmatization)\n",
        "    document = \" \".join([word.lemma_ for word in nlp(document)])\n",
        "\n",
        "    return document"
      ],
      "metadata": {
        "id": "8zvnnAn1Nqn4"
      },
      "execution_count": null,
      "outputs": []
    },
    {
      "cell_type": "code",
      "source": [
        "print('Recenzia Initiala:', recenzie_test)\n",
        "print('')\n",
        "print('Recenzia Procesata:', preprocesare_text(recenzie_test))"
      ],
      "metadata": {
        "colab": {
          "base_uri": "https://localhost:8080/"
        },
        "id": "Tll4do24Nx2w",
        "outputId": "b3df40b1-b3ce-4e48-9f93-8ff156004e09"
      },
      "execution_count": null,
      "outputs": [
        {
          "output_type": "stream",
          "name": "stdout",
          "text": [
            "Recenzia Initiala: Everytime I'm in town I hit this place for curds, beer and brats. I spent a whole Sunday watching football here and had a blast. Crowded times are a little annoying, but it is a college place. Love the mustard selections too. Curds are a must!\n",
            "\n",
            "Recenzia Procesata: everytime town hit place curds beer brat spend whole sunday watch football blast crowded time little annoying college place love mustard selection curd must\n"
          ]
        }
      ]
    },
    {
      "cell_type": "code",
      "source": [
        "reviews.head(6)"
      ],
      "metadata": {
        "colab": {
          "base_uri": "https://localhost:8080/",
          "height": 237
        },
        "id": "7VGIquc5N1yZ",
        "outputId": "94e9ff36-e77f-446b-d7cb-89de60df60d3"
      },
      "execution_count": null,
      "outputs": [
        {
          "output_type": "execute_result",
          "data": {
            "text/plain": [
              "                  rest_id                                               text  \\\n",
              "0  L772e6l2Yd0DJEyCBxBNng  Everytime I'm in town I hit this place for cur...   \n",
              "1  L772e6l2Yd0DJEyCBxBNng  I go to State Street Brats every time I am in ...   \n",
              "2  L772e6l2Yd0DJEyCBxBNng  State street brats has a dress code that openl...   \n",
              "3  L772e6l2Yd0DJEyCBxBNng  Sad to have a place like this on campus in Mad...   \n",
              "4  L772e6l2Yd0DJEyCBxBNng  Place was busy when we got there but the servi...   \n",
              "5  L772e6l2Yd0DJEyCBxBNng  Dress code is noticeably racist, specifically ...   \n",
              "\n",
              "   rating  positive  \n",
              "0       5         1  \n",
              "1       4         1  \n",
              "2       1         0  \n",
              "3       1         0  \n",
              "4       5         1  \n",
              "5       1         0  "
            ],
            "text/html": [
              "\n",
              "  <div id=\"df-c9da279c-5eba-4a95-a629-93ed5c52ea72\" class=\"colab-df-container\">\n",
              "    <div>\n",
              "<style scoped>\n",
              "    .dataframe tbody tr th:only-of-type {\n",
              "        vertical-align: middle;\n",
              "    }\n",
              "\n",
              "    .dataframe tbody tr th {\n",
              "        vertical-align: top;\n",
              "    }\n",
              "\n",
              "    .dataframe thead th {\n",
              "        text-align: right;\n",
              "    }\n",
              "</style>\n",
              "<table border=\"1\" class=\"dataframe\">\n",
              "  <thead>\n",
              "    <tr style=\"text-align: right;\">\n",
              "      <th></th>\n",
              "      <th>rest_id</th>\n",
              "      <th>text</th>\n",
              "      <th>rating</th>\n",
              "      <th>positive</th>\n",
              "    </tr>\n",
              "  </thead>\n",
              "  <tbody>\n",
              "    <tr>\n",
              "      <th>0</th>\n",
              "      <td>L772e6l2Yd0DJEyCBxBNng</td>\n",
              "      <td>Everytime I'm in town I hit this place for cur...</td>\n",
              "      <td>5</td>\n",
              "      <td>1</td>\n",
              "    </tr>\n",
              "    <tr>\n",
              "      <th>1</th>\n",
              "      <td>L772e6l2Yd0DJEyCBxBNng</td>\n",
              "      <td>I go to State Street Brats every time I am in ...</td>\n",
              "      <td>4</td>\n",
              "      <td>1</td>\n",
              "    </tr>\n",
              "    <tr>\n",
              "      <th>2</th>\n",
              "      <td>L772e6l2Yd0DJEyCBxBNng</td>\n",
              "      <td>State street brats has a dress code that openl...</td>\n",
              "      <td>1</td>\n",
              "      <td>0</td>\n",
              "    </tr>\n",
              "    <tr>\n",
              "      <th>3</th>\n",
              "      <td>L772e6l2Yd0DJEyCBxBNng</td>\n",
              "      <td>Sad to have a place like this on campus in Mad...</td>\n",
              "      <td>1</td>\n",
              "      <td>0</td>\n",
              "    </tr>\n",
              "    <tr>\n",
              "      <th>4</th>\n",
              "      <td>L772e6l2Yd0DJEyCBxBNng</td>\n",
              "      <td>Place was busy when we got there but the servi...</td>\n",
              "      <td>5</td>\n",
              "      <td>1</td>\n",
              "    </tr>\n",
              "    <tr>\n",
              "      <th>5</th>\n",
              "      <td>L772e6l2Yd0DJEyCBxBNng</td>\n",
              "      <td>Dress code is noticeably racist, specifically ...</td>\n",
              "      <td>1</td>\n",
              "      <td>0</td>\n",
              "    </tr>\n",
              "  </tbody>\n",
              "</table>\n",
              "</div>\n",
              "    <div class=\"colab-df-buttons\">\n",
              "\n",
              "  <div class=\"colab-df-container\">\n",
              "    <button class=\"colab-df-convert\" onclick=\"convertToInteractive('df-c9da279c-5eba-4a95-a629-93ed5c52ea72')\"\n",
              "            title=\"Convert this dataframe to an interactive table.\"\n",
              "            style=\"display:none;\">\n",
              "\n",
              "  <svg xmlns=\"http://www.w3.org/2000/svg\" height=\"24px\" viewBox=\"0 -960 960 960\">\n",
              "    <path d=\"M120-120v-720h720v720H120Zm60-500h600v-160H180v160Zm220 220h160v-160H400v160Zm0 220h160v-160H400v160ZM180-400h160v-160H180v160Zm440 0h160v-160H620v160ZM180-180h160v-160H180v160Zm440 0h160v-160H620v160Z\"/>\n",
              "  </svg>\n",
              "    </button>\n",
              "\n",
              "  <style>\n",
              "    .colab-df-container {\n",
              "      display:flex;\n",
              "      gap: 12px;\n",
              "    }\n",
              "\n",
              "    .colab-df-convert {\n",
              "      background-color: #E8F0FE;\n",
              "      border: none;\n",
              "      border-radius: 50%;\n",
              "      cursor: pointer;\n",
              "      display: none;\n",
              "      fill: #1967D2;\n",
              "      height: 32px;\n",
              "      padding: 0 0 0 0;\n",
              "      width: 32px;\n",
              "    }\n",
              "\n",
              "    .colab-df-convert:hover {\n",
              "      background-color: #E2EBFA;\n",
              "      box-shadow: 0px 1px 2px rgba(60, 64, 67, 0.3), 0px 1px 3px 1px rgba(60, 64, 67, 0.15);\n",
              "      fill: #174EA6;\n",
              "    }\n",
              "\n",
              "    .colab-df-buttons div {\n",
              "      margin-bottom: 4px;\n",
              "    }\n",
              "\n",
              "    [theme=dark] .colab-df-convert {\n",
              "      background-color: #3B4455;\n",
              "      fill: #D2E3FC;\n",
              "    }\n",
              "\n",
              "    [theme=dark] .colab-df-convert:hover {\n",
              "      background-color: #434B5C;\n",
              "      box-shadow: 0px 1px 3px 1px rgba(0, 0, 0, 0.15);\n",
              "      filter: drop-shadow(0px 1px 2px rgba(0, 0, 0, 0.3));\n",
              "      fill: #FFFFFF;\n",
              "    }\n",
              "  </style>\n",
              "\n",
              "    <script>\n",
              "      const buttonEl =\n",
              "        document.querySelector('#df-c9da279c-5eba-4a95-a629-93ed5c52ea72 button.colab-df-convert');\n",
              "      buttonEl.style.display =\n",
              "        google.colab.kernel.accessAllowed ? 'block' : 'none';\n",
              "\n",
              "      async function convertToInteractive(key) {\n",
              "        const element = document.querySelector('#df-c9da279c-5eba-4a95-a629-93ed5c52ea72');\n",
              "        const dataTable =\n",
              "          await google.colab.kernel.invokeFunction('convertToInteractive',\n",
              "                                                    [key], {});\n",
              "        if (!dataTable) return;\n",
              "\n",
              "        const docLinkHtml = 'Like what you see? Visit the ' +\n",
              "          '<a target=\"_blank\" href=https://colab.research.google.com/notebooks/data_table.ipynb>data table notebook</a>'\n",
              "          + ' to learn more about interactive tables.';\n",
              "        element.innerHTML = '';\n",
              "        dataTable['output_type'] = 'display_data';\n",
              "        await google.colab.output.renderOutput(dataTable, element);\n",
              "        const docLink = document.createElement('div');\n",
              "        docLink.innerHTML = docLinkHtml;\n",
              "        element.appendChild(docLink);\n",
              "      }\n",
              "    </script>\n",
              "  </div>\n",
              "\n",
              "\n",
              "<div id=\"df-8b63a7f7-8fd6-4475-a12f-060a77243744\">\n",
              "  <button class=\"colab-df-quickchart\" onclick=\"quickchart('df-8b63a7f7-8fd6-4475-a12f-060a77243744')\"\n",
              "            title=\"Suggest charts\"\n",
              "            style=\"display:none;\">\n",
              "\n",
              "<svg xmlns=\"http://www.w3.org/2000/svg\" height=\"24px\"viewBox=\"0 0 24 24\"\n",
              "     width=\"24px\">\n",
              "    <g>\n",
              "        <path d=\"M19 3H5c-1.1 0-2 .9-2 2v14c0 1.1.9 2 2 2h14c1.1 0 2-.9 2-2V5c0-1.1-.9-2-2-2zM9 17H7v-7h2v7zm4 0h-2V7h2v10zm4 0h-2v-4h2v4z\"/>\n",
              "    </g>\n",
              "</svg>\n",
              "  </button>\n",
              "\n",
              "<style>\n",
              "  .colab-df-quickchart {\n",
              "      --bg-color: #E8F0FE;\n",
              "      --fill-color: #1967D2;\n",
              "      --hover-bg-color: #E2EBFA;\n",
              "      --hover-fill-color: #174EA6;\n",
              "      --disabled-fill-color: #AAA;\n",
              "      --disabled-bg-color: #DDD;\n",
              "  }\n",
              "\n",
              "  [theme=dark] .colab-df-quickchart {\n",
              "      --bg-color: #3B4455;\n",
              "      --fill-color: #D2E3FC;\n",
              "      --hover-bg-color: #434B5C;\n",
              "      --hover-fill-color: #FFFFFF;\n",
              "      --disabled-bg-color: #3B4455;\n",
              "      --disabled-fill-color: #666;\n",
              "  }\n",
              "\n",
              "  .colab-df-quickchart {\n",
              "    background-color: var(--bg-color);\n",
              "    border: none;\n",
              "    border-radius: 50%;\n",
              "    cursor: pointer;\n",
              "    display: none;\n",
              "    fill: var(--fill-color);\n",
              "    height: 32px;\n",
              "    padding: 0;\n",
              "    width: 32px;\n",
              "  }\n",
              "\n",
              "  .colab-df-quickchart:hover {\n",
              "    background-color: var(--hover-bg-color);\n",
              "    box-shadow: 0 1px 2px rgba(60, 64, 67, 0.3), 0 1px 3px 1px rgba(60, 64, 67, 0.15);\n",
              "    fill: var(--button-hover-fill-color);\n",
              "  }\n",
              "\n",
              "  .colab-df-quickchart-complete:disabled,\n",
              "  .colab-df-quickchart-complete:disabled:hover {\n",
              "    background-color: var(--disabled-bg-color);\n",
              "    fill: var(--disabled-fill-color);\n",
              "    box-shadow: none;\n",
              "  }\n",
              "\n",
              "  .colab-df-spinner {\n",
              "    border: 2px solid var(--fill-color);\n",
              "    border-color: transparent;\n",
              "    border-bottom-color: var(--fill-color);\n",
              "    animation:\n",
              "      spin 1s steps(1) infinite;\n",
              "  }\n",
              "\n",
              "  @keyframes spin {\n",
              "    0% {\n",
              "      border-color: transparent;\n",
              "      border-bottom-color: var(--fill-color);\n",
              "      border-left-color: var(--fill-color);\n",
              "    }\n",
              "    20% {\n",
              "      border-color: transparent;\n",
              "      border-left-color: var(--fill-color);\n",
              "      border-top-color: var(--fill-color);\n",
              "    }\n",
              "    30% {\n",
              "      border-color: transparent;\n",
              "      border-left-color: var(--fill-color);\n",
              "      border-top-color: var(--fill-color);\n",
              "      border-right-color: var(--fill-color);\n",
              "    }\n",
              "    40% {\n",
              "      border-color: transparent;\n",
              "      border-right-color: var(--fill-color);\n",
              "      border-top-color: var(--fill-color);\n",
              "    }\n",
              "    60% {\n",
              "      border-color: transparent;\n",
              "      border-right-color: var(--fill-color);\n",
              "    }\n",
              "    80% {\n",
              "      border-color: transparent;\n",
              "      border-right-color: var(--fill-color);\n",
              "      border-bottom-color: var(--fill-color);\n",
              "    }\n",
              "    90% {\n",
              "      border-color: transparent;\n",
              "      border-bottom-color: var(--fill-color);\n",
              "    }\n",
              "  }\n",
              "</style>\n",
              "\n",
              "  <script>\n",
              "    async function quickchart(key) {\n",
              "      const quickchartButtonEl =\n",
              "        document.querySelector('#' + key + ' button');\n",
              "      quickchartButtonEl.disabled = true;  // To prevent multiple clicks.\n",
              "      quickchartButtonEl.classList.add('colab-df-spinner');\n",
              "      try {\n",
              "        const charts = await google.colab.kernel.invokeFunction(\n",
              "            'suggestCharts', [key], {});\n",
              "      } catch (error) {\n",
              "        console.error('Error during call to suggestCharts:', error);\n",
              "      }\n",
              "      quickchartButtonEl.classList.remove('colab-df-spinner');\n",
              "      quickchartButtonEl.classList.add('colab-df-quickchart-complete');\n",
              "    }\n",
              "    (() => {\n",
              "      let quickchartButtonEl =\n",
              "        document.querySelector('#df-8b63a7f7-8fd6-4475-a12f-060a77243744 button');\n",
              "      quickchartButtonEl.style.display =\n",
              "        google.colab.kernel.accessAllowed ? 'block' : 'none';\n",
              "    })();\n",
              "  </script>\n",
              "</div>\n",
              "    </div>\n",
              "  </div>\n"
            ],
            "application/vnd.google.colaboratory.intrinsic+json": {
              "type": "dataframe",
              "variable_name": "reviews",
              "summary": "{\n  \"name\": \"reviews\",\n  \"rows\": 9937,\n  \"fields\": [\n    {\n      \"column\": \"rest_id\",\n      \"properties\": {\n        \"dtype\": \"category\",\n        \"num_unique_values\": 743,\n        \"samples\": [\n          \"u_A58uX7x7AEOKOboFGFpg\",\n          \"fpwMWuKAR8joNW1B4N3e5w\",\n          \"EKNm59ZMMRvb8N8Cm5F8Qw\"\n        ],\n        \"semantic_type\": \"\",\n        \"description\": \"\"\n      }\n    },\n    {\n      \"column\": \"text\",\n      \"properties\": {\n        \"dtype\": \"string\",\n        \"num_unique_values\": 9917,\n        \"samples\": [\n          \"I absolutely love La Baguette. From their excellent authentic French desserts to their breads, everything I have tried was superb.  If you are looking for an \\\"American French\\\" restaurant, you can go somewhere else. Having traveled to France, this bakery made me feel like I was back in Europe. The family that runs the business has always been friendly to me each time I visited. If you are courteous to them, they will be courteous to you! Their goat cheese quiche and macarons are my favorite items. Bring cash, or a local check to pay.\",\n          \"My wife selected Sardine for brunch as a pre-anniversary meal. I was disinclined to go because my experiences with French restaurants, both in Los Angeles and NYC have always been too much dough for not enough go; said simply tiny portions with high tariff (think nouvelle cuisine as it was presented to Steve Martin in LA Story).\\n\\nThis was not the case at all here. I had the rib eye steak and poached eggs. Not only was the food prepared exactly as requested and delicious, but the portion was perfect; it could be argued that this menu item is the sleeper; a real value proposition.\\n\\nWe will be returning for dinner. It is great when expectations are shattered for the better.\",\n          \"Madison tap is great.  Beautiful courtyard, nice people.  Good music.  Check it out.  Don't wait!\"\n        ],\n        \"semantic_type\": \"\",\n        \"description\": \"\"\n      }\n    },\n    {\n      \"column\": \"rating\",\n      \"properties\": {\n        \"dtype\": \"number\",\n        \"std\": 1,\n        \"min\": 1,\n        \"max\": 5,\n        \"num_unique_values\": 4,\n        \"samples\": [\n          4,\n          2,\n          5\n        ],\n        \"semantic_type\": \"\",\n        \"description\": \"\"\n      }\n    },\n    {\n      \"column\": \"positive\",\n      \"properties\": {\n        \"dtype\": \"number\",\n        \"std\": 0,\n        \"min\": 0,\n        \"max\": 1,\n        \"num_unique_values\": 2,\n        \"samples\": [\n          0,\n          1\n        ],\n        \"semantic_type\": \"\",\n        \"description\": \"\"\n      }\n    }\n  ]\n}"
            }
          },
          "metadata": {},
          "execution_count": 47
        }
      ]
    },
    {
      "cell_type": "code",
      "source": [
        "reviews['text_prep'] = reviews['text'].apply(preprocesare_text)\n",
        "reviews.head(6)"
      ],
      "metadata": {
        "colab": {
          "base_uri": "https://localhost:8080/",
          "height": 237
        },
        "id": "gF7Cv1m7N8hT",
        "outputId": "19eae377-8af3-41e1-d7e4-25a25c5b6f9a"
      },
      "execution_count": null,
      "outputs": [
        {
          "output_type": "execute_result",
          "data": {
            "text/plain": [
              "                  rest_id                                               text  \\\n",
              "0  L772e6l2Yd0DJEyCBxBNng  Everytime I'm in town I hit this place for cur...   \n",
              "1  L772e6l2Yd0DJEyCBxBNng  I go to State Street Brats every time I am in ...   \n",
              "2  L772e6l2Yd0DJEyCBxBNng  State street brats has a dress code that openl...   \n",
              "3  L772e6l2Yd0DJEyCBxBNng  Sad to have a place like this on campus in Mad...   \n",
              "4  L772e6l2Yd0DJEyCBxBNng  Place was busy when we got there but the servi...   \n",
              "5  L772e6l2Yd0DJEyCBxBNng  Dress code is noticeably racist, specifically ...   \n",
              "\n",
              "   rating  positive                                          text_prep  \n",
              "0       5         1  everytime town hit place curds beer brat spend...  \n",
              "1       4         1  go state street brat every time wisconsin time...  \n",
              "2       1         0  state street brat dress code openly discrimina...  \n",
              "3       1         0  sad place like campus madison racist protocol ...  \n",
              "4       5         1  place busy get service good cashier suggest gr...  \n",
              "5       1         0  dress code noticeably racist specifically targ...  "
            ],
            "text/html": [
              "\n",
              "  <div id=\"df-1b2e4a68-168f-417e-92d7-544fc28b9f27\" class=\"colab-df-container\">\n",
              "    <div>\n",
              "<style scoped>\n",
              "    .dataframe tbody tr th:only-of-type {\n",
              "        vertical-align: middle;\n",
              "    }\n",
              "\n",
              "    .dataframe tbody tr th {\n",
              "        vertical-align: top;\n",
              "    }\n",
              "\n",
              "    .dataframe thead th {\n",
              "        text-align: right;\n",
              "    }\n",
              "</style>\n",
              "<table border=\"1\" class=\"dataframe\">\n",
              "  <thead>\n",
              "    <tr style=\"text-align: right;\">\n",
              "      <th></th>\n",
              "      <th>rest_id</th>\n",
              "      <th>text</th>\n",
              "      <th>rating</th>\n",
              "      <th>positive</th>\n",
              "      <th>text_prep</th>\n",
              "    </tr>\n",
              "  </thead>\n",
              "  <tbody>\n",
              "    <tr>\n",
              "      <th>0</th>\n",
              "      <td>L772e6l2Yd0DJEyCBxBNng</td>\n",
              "      <td>Everytime I'm in town I hit this place for cur...</td>\n",
              "      <td>5</td>\n",
              "      <td>1</td>\n",
              "      <td>everytime town hit place curds beer brat spend...</td>\n",
              "    </tr>\n",
              "    <tr>\n",
              "      <th>1</th>\n",
              "      <td>L772e6l2Yd0DJEyCBxBNng</td>\n",
              "      <td>I go to State Street Brats every time I am in ...</td>\n",
              "      <td>4</td>\n",
              "      <td>1</td>\n",
              "      <td>go state street brat every time wisconsin time...</td>\n",
              "    </tr>\n",
              "    <tr>\n",
              "      <th>2</th>\n",
              "      <td>L772e6l2Yd0DJEyCBxBNng</td>\n",
              "      <td>State street brats has a dress code that openl...</td>\n",
              "      <td>1</td>\n",
              "      <td>0</td>\n",
              "      <td>state street brat dress code openly discrimina...</td>\n",
              "    </tr>\n",
              "    <tr>\n",
              "      <th>3</th>\n",
              "      <td>L772e6l2Yd0DJEyCBxBNng</td>\n",
              "      <td>Sad to have a place like this on campus in Mad...</td>\n",
              "      <td>1</td>\n",
              "      <td>0</td>\n",
              "      <td>sad place like campus madison racist protocol ...</td>\n",
              "    </tr>\n",
              "    <tr>\n",
              "      <th>4</th>\n",
              "      <td>L772e6l2Yd0DJEyCBxBNng</td>\n",
              "      <td>Place was busy when we got there but the servi...</td>\n",
              "      <td>5</td>\n",
              "      <td>1</td>\n",
              "      <td>place busy get service good cashier suggest gr...</td>\n",
              "    </tr>\n",
              "    <tr>\n",
              "      <th>5</th>\n",
              "      <td>L772e6l2Yd0DJEyCBxBNng</td>\n",
              "      <td>Dress code is noticeably racist, specifically ...</td>\n",
              "      <td>1</td>\n",
              "      <td>0</td>\n",
              "      <td>dress code noticeably racist specifically targ...</td>\n",
              "    </tr>\n",
              "  </tbody>\n",
              "</table>\n",
              "</div>\n",
              "    <div class=\"colab-df-buttons\">\n",
              "\n",
              "  <div class=\"colab-df-container\">\n",
              "    <button class=\"colab-df-convert\" onclick=\"convertToInteractive('df-1b2e4a68-168f-417e-92d7-544fc28b9f27')\"\n",
              "            title=\"Convert this dataframe to an interactive table.\"\n",
              "            style=\"display:none;\">\n",
              "\n",
              "  <svg xmlns=\"http://www.w3.org/2000/svg\" height=\"24px\" viewBox=\"0 -960 960 960\">\n",
              "    <path d=\"M120-120v-720h720v720H120Zm60-500h600v-160H180v160Zm220 220h160v-160H400v160Zm0 220h160v-160H400v160ZM180-400h160v-160H180v160Zm440 0h160v-160H620v160ZM180-180h160v-160H180v160Zm440 0h160v-160H620v160Z\"/>\n",
              "  </svg>\n",
              "    </button>\n",
              "\n",
              "  <style>\n",
              "    .colab-df-container {\n",
              "      display:flex;\n",
              "      gap: 12px;\n",
              "    }\n",
              "\n",
              "    .colab-df-convert {\n",
              "      background-color: #E8F0FE;\n",
              "      border: none;\n",
              "      border-radius: 50%;\n",
              "      cursor: pointer;\n",
              "      display: none;\n",
              "      fill: #1967D2;\n",
              "      height: 32px;\n",
              "      padding: 0 0 0 0;\n",
              "      width: 32px;\n",
              "    }\n",
              "\n",
              "    .colab-df-convert:hover {\n",
              "      background-color: #E2EBFA;\n",
              "      box-shadow: 0px 1px 2px rgba(60, 64, 67, 0.3), 0px 1px 3px 1px rgba(60, 64, 67, 0.15);\n",
              "      fill: #174EA6;\n",
              "    }\n",
              "\n",
              "    .colab-df-buttons div {\n",
              "      margin-bottom: 4px;\n",
              "    }\n",
              "\n",
              "    [theme=dark] .colab-df-convert {\n",
              "      background-color: #3B4455;\n",
              "      fill: #D2E3FC;\n",
              "    }\n",
              "\n",
              "    [theme=dark] .colab-df-convert:hover {\n",
              "      background-color: #434B5C;\n",
              "      box-shadow: 0px 1px 3px 1px rgba(0, 0, 0, 0.15);\n",
              "      filter: drop-shadow(0px 1px 2px rgba(0, 0, 0, 0.3));\n",
              "      fill: #FFFFFF;\n",
              "    }\n",
              "  </style>\n",
              "\n",
              "    <script>\n",
              "      const buttonEl =\n",
              "        document.querySelector('#df-1b2e4a68-168f-417e-92d7-544fc28b9f27 button.colab-df-convert');\n",
              "      buttonEl.style.display =\n",
              "        google.colab.kernel.accessAllowed ? 'block' : 'none';\n",
              "\n",
              "      async function convertToInteractive(key) {\n",
              "        const element = document.querySelector('#df-1b2e4a68-168f-417e-92d7-544fc28b9f27');\n",
              "        const dataTable =\n",
              "          await google.colab.kernel.invokeFunction('convertToInteractive',\n",
              "                                                    [key], {});\n",
              "        if (!dataTable) return;\n",
              "\n",
              "        const docLinkHtml = 'Like what you see? Visit the ' +\n",
              "          '<a target=\"_blank\" href=https://colab.research.google.com/notebooks/data_table.ipynb>data table notebook</a>'\n",
              "          + ' to learn more about interactive tables.';\n",
              "        element.innerHTML = '';\n",
              "        dataTable['output_type'] = 'display_data';\n",
              "        await google.colab.output.renderOutput(dataTable, element);\n",
              "        const docLink = document.createElement('div');\n",
              "        docLink.innerHTML = docLinkHtml;\n",
              "        element.appendChild(docLink);\n",
              "      }\n",
              "    </script>\n",
              "  </div>\n",
              "\n",
              "\n",
              "<div id=\"df-2e746f10-f73e-4a91-b8bd-e58ee06bf419\">\n",
              "  <button class=\"colab-df-quickchart\" onclick=\"quickchart('df-2e746f10-f73e-4a91-b8bd-e58ee06bf419')\"\n",
              "            title=\"Suggest charts\"\n",
              "            style=\"display:none;\">\n",
              "\n",
              "<svg xmlns=\"http://www.w3.org/2000/svg\" height=\"24px\"viewBox=\"0 0 24 24\"\n",
              "     width=\"24px\">\n",
              "    <g>\n",
              "        <path d=\"M19 3H5c-1.1 0-2 .9-2 2v14c0 1.1.9 2 2 2h14c1.1 0 2-.9 2-2V5c0-1.1-.9-2-2-2zM9 17H7v-7h2v7zm4 0h-2V7h2v10zm4 0h-2v-4h2v4z\"/>\n",
              "    </g>\n",
              "</svg>\n",
              "  </button>\n",
              "\n",
              "<style>\n",
              "  .colab-df-quickchart {\n",
              "      --bg-color: #E8F0FE;\n",
              "      --fill-color: #1967D2;\n",
              "      --hover-bg-color: #E2EBFA;\n",
              "      --hover-fill-color: #174EA6;\n",
              "      --disabled-fill-color: #AAA;\n",
              "      --disabled-bg-color: #DDD;\n",
              "  }\n",
              "\n",
              "  [theme=dark] .colab-df-quickchart {\n",
              "      --bg-color: #3B4455;\n",
              "      --fill-color: #D2E3FC;\n",
              "      --hover-bg-color: #434B5C;\n",
              "      --hover-fill-color: #FFFFFF;\n",
              "      --disabled-bg-color: #3B4455;\n",
              "      --disabled-fill-color: #666;\n",
              "  }\n",
              "\n",
              "  .colab-df-quickchart {\n",
              "    background-color: var(--bg-color);\n",
              "    border: none;\n",
              "    border-radius: 50%;\n",
              "    cursor: pointer;\n",
              "    display: none;\n",
              "    fill: var(--fill-color);\n",
              "    height: 32px;\n",
              "    padding: 0;\n",
              "    width: 32px;\n",
              "  }\n",
              "\n",
              "  .colab-df-quickchart:hover {\n",
              "    background-color: var(--hover-bg-color);\n",
              "    box-shadow: 0 1px 2px rgba(60, 64, 67, 0.3), 0 1px 3px 1px rgba(60, 64, 67, 0.15);\n",
              "    fill: var(--button-hover-fill-color);\n",
              "  }\n",
              "\n",
              "  .colab-df-quickchart-complete:disabled,\n",
              "  .colab-df-quickchart-complete:disabled:hover {\n",
              "    background-color: var(--disabled-bg-color);\n",
              "    fill: var(--disabled-fill-color);\n",
              "    box-shadow: none;\n",
              "  }\n",
              "\n",
              "  .colab-df-spinner {\n",
              "    border: 2px solid var(--fill-color);\n",
              "    border-color: transparent;\n",
              "    border-bottom-color: var(--fill-color);\n",
              "    animation:\n",
              "      spin 1s steps(1) infinite;\n",
              "  }\n",
              "\n",
              "  @keyframes spin {\n",
              "    0% {\n",
              "      border-color: transparent;\n",
              "      border-bottom-color: var(--fill-color);\n",
              "      border-left-color: var(--fill-color);\n",
              "    }\n",
              "    20% {\n",
              "      border-color: transparent;\n",
              "      border-left-color: var(--fill-color);\n",
              "      border-top-color: var(--fill-color);\n",
              "    }\n",
              "    30% {\n",
              "      border-color: transparent;\n",
              "      border-left-color: var(--fill-color);\n",
              "      border-top-color: var(--fill-color);\n",
              "      border-right-color: var(--fill-color);\n",
              "    }\n",
              "    40% {\n",
              "      border-color: transparent;\n",
              "      border-right-color: var(--fill-color);\n",
              "      border-top-color: var(--fill-color);\n",
              "    }\n",
              "    60% {\n",
              "      border-color: transparent;\n",
              "      border-right-color: var(--fill-color);\n",
              "    }\n",
              "    80% {\n",
              "      border-color: transparent;\n",
              "      border-right-color: var(--fill-color);\n",
              "      border-bottom-color: var(--fill-color);\n",
              "    }\n",
              "    90% {\n",
              "      border-color: transparent;\n",
              "      border-bottom-color: var(--fill-color);\n",
              "    }\n",
              "  }\n",
              "</style>\n",
              "\n",
              "  <script>\n",
              "    async function quickchart(key) {\n",
              "      const quickchartButtonEl =\n",
              "        document.querySelector('#' + key + ' button');\n",
              "      quickchartButtonEl.disabled = true;  // To prevent multiple clicks.\n",
              "      quickchartButtonEl.classList.add('colab-df-spinner');\n",
              "      try {\n",
              "        const charts = await google.colab.kernel.invokeFunction(\n",
              "            'suggestCharts', [key], {});\n",
              "      } catch (error) {\n",
              "        console.error('Error during call to suggestCharts:', error);\n",
              "      }\n",
              "      quickchartButtonEl.classList.remove('colab-df-spinner');\n",
              "      quickchartButtonEl.classList.add('colab-df-quickchart-complete');\n",
              "    }\n",
              "    (() => {\n",
              "      let quickchartButtonEl =\n",
              "        document.querySelector('#df-2e746f10-f73e-4a91-b8bd-e58ee06bf419 button');\n",
              "      quickchartButtonEl.style.display =\n",
              "        google.colab.kernel.accessAllowed ? 'block' : 'none';\n",
              "    })();\n",
              "  </script>\n",
              "</div>\n",
              "    </div>\n",
              "  </div>\n"
            ],
            "application/vnd.google.colaboratory.intrinsic+json": {
              "type": "dataframe",
              "variable_name": "reviews",
              "summary": "{\n  \"name\": \"reviews\",\n  \"rows\": 9937,\n  \"fields\": [\n    {\n      \"column\": \"rest_id\",\n      \"properties\": {\n        \"dtype\": \"category\",\n        \"num_unique_values\": 743,\n        \"samples\": [\n          \"u_A58uX7x7AEOKOboFGFpg\",\n          \"fpwMWuKAR8joNW1B4N3e5w\",\n          \"EKNm59ZMMRvb8N8Cm5F8Qw\"\n        ],\n        \"semantic_type\": \"\",\n        \"description\": \"\"\n      }\n    },\n    {\n      \"column\": \"text\",\n      \"properties\": {\n        \"dtype\": \"string\",\n        \"num_unique_values\": 9917,\n        \"samples\": [\n          \"I absolutely love La Baguette. From their excellent authentic French desserts to their breads, everything I have tried was superb.  If you are looking for an \\\"American French\\\" restaurant, you can go somewhere else. Having traveled to France, this bakery made me feel like I was back in Europe. The family that runs the business has always been friendly to me each time I visited. If you are courteous to them, they will be courteous to you! Their goat cheese quiche and macarons are my favorite items. Bring cash, or a local check to pay.\",\n          \"My wife selected Sardine for brunch as a pre-anniversary meal. I was disinclined to go because my experiences with French restaurants, both in Los Angeles and NYC have always been too much dough for not enough go; said simply tiny portions with high tariff (think nouvelle cuisine as it was presented to Steve Martin in LA Story).\\n\\nThis was not the case at all here. I had the rib eye steak and poached eggs. Not only was the food prepared exactly as requested and delicious, but the portion was perfect; it could be argued that this menu item is the sleeper; a real value proposition.\\n\\nWe will be returning for dinner. It is great when expectations are shattered for the better.\",\n          \"Madison tap is great.  Beautiful courtyard, nice people.  Good music.  Check it out.  Don't wait!\"\n        ],\n        \"semantic_type\": \"\",\n        \"description\": \"\"\n      }\n    },\n    {\n      \"column\": \"rating\",\n      \"properties\": {\n        \"dtype\": \"number\",\n        \"std\": 1,\n        \"min\": 1,\n        \"max\": 5,\n        \"num_unique_values\": 4,\n        \"samples\": [\n          4,\n          2,\n          5\n        ],\n        \"semantic_type\": \"\",\n        \"description\": \"\"\n      }\n    },\n    {\n      \"column\": \"positive\",\n      \"properties\": {\n        \"dtype\": \"number\",\n        \"std\": 0,\n        \"min\": 0,\n        \"max\": 1,\n        \"num_unique_values\": 2,\n        \"samples\": [\n          0,\n          1\n        ],\n        \"semantic_type\": \"\",\n        \"description\": \"\"\n      }\n    },\n    {\n      \"column\": \"text_prep\",\n      \"properties\": {\n        \"dtype\": \"string\",\n        \"num_unique_values\": 9916,\n        \"samples\": [\n          \"new favorite americano make perfectly actually another wait try food item croissant buttery flaky quiche flavorful bring husband next time\",\n          \"wife select sardine brunch pre anniversary meal disinclined go experience french restaurant los angeles nyc always much dough enough go say simply tiny portion high tariff think nouvelle cuisine present steve martin la story case rib eye steak poach egg food prepare exactly request delicious portion perfect could argue menu item sleeper real value proposition return dinner great expectation shatter well\"\n        ],\n        \"semantic_type\": \"\",\n        \"description\": \"\"\n      }\n    }\n  ]\n}"
            }
          },
          "metadata": {},
          "execution_count": 48
        }
      ]
    },
    {
      "cell_type": "markdown",
      "source": [
        "### Verific dacă am făcut corect partea de procesare a datelor"
      ],
      "metadata": {
        "id": "WG3t9NGa7M16"
      }
    },
    {
      "cell_type": "code",
      "source": [
        "# Vizualizarea datelor preprocesate\n",
        "print(\"Recenzia originală:\", recenzie_test)\n",
        "print(\"Recenzia preprocesată:\", reviews['text_prep'].iloc[0])\n",
        "\n",
        "# Verificarea dimensiunii datelor\n",
        "print(\"Dimensiunea datelor inițiale:\", reviews.shape)\n",
        "print(\"Dimensiunea datelor după preprocesare:\", reviews.shape)\n",
        "\n",
        "# Verificarea tokenizării\n",
        "print(\"Tokenizare pentru prima recenzie:\", nltk.word_tokenize(recenzie_test))\n",
        "print(\"Tokenizare pentru prima recenzie preprocesată:\", reviews['text_prep'].iloc[0].split())\n",
        "\n",
        "# Verificarea lematizării\n",
        "print(\"Lematizarea pentru prima recenzie preprocesată:\", reviews['text_prep'].iloc[0])"
      ],
      "metadata": {
        "colab": {
          "base_uri": "https://localhost:8080/"
        },
        "id": "u3ZoCFk54hxj",
        "outputId": "1b954788-7cf2-4a39-8f4c-7000d5c82d72"
      },
      "execution_count": null,
      "outputs": [
        {
          "output_type": "stream",
          "name": "stdout",
          "text": [
            "Recenzia originală: Everytime I'm in town I hit this place for curds, beer and brats. I spent a whole Sunday watching football here and had a blast. Crowded times are a little annoying, but it is a college place. Love the mustard selections too. Curds are a must!\n",
            "Recenzia preprocesată: everytime town hit place curds beer brat spend whole sunday watch football blast crowded time little annoying college place love mustard selection curd must\n",
            "Dimensiunea datelor inițiale: (9937, 5)\n",
            "Dimensiunea datelor după preprocesare: (9937, 5)\n",
            "Tokenizare pentru prima recenzie: ['Everytime', 'I', \"'m\", 'in', 'town', 'I', 'hit', 'this', 'place', 'for', 'curds', ',', 'beer', 'and', 'brats', '.', 'I', 'spent', 'a', 'whole', 'Sunday', 'watching', 'football', 'here', 'and', 'had', 'a', 'blast', '.', 'Crowded', 'times', 'are', 'a', 'little', 'annoying', ',', 'but', 'it', 'is', 'a', 'college', 'place', '.', 'Love', 'the', 'mustard', 'selections', 'too', '.', 'Curds', 'are', 'a', 'must', '!']\n",
            "Tokenizare pentru prima recenzie preprocesată: ['everytime', 'town', 'hit', 'place', 'curds', 'beer', 'brat', 'spend', 'whole', 'sunday', 'watch', 'football', 'blast', 'crowded', 'time', 'little', 'annoying', 'college', 'place', 'love', 'mustard', 'selection', 'curd', 'must']\n",
            "Lematizarea pentru prima recenzie preprocesată: everytime town hit place curds beer brat spend whole sunday watch football blast crowded time little annoying college place love mustard selection curd must\n"
          ]
        }
      ]
    },
    {
      "cell_type": "markdown",
      "source": [
        "### I. Bag-of-Words (BOW) și antrenarea unui model XGBoost"
      ],
      "metadata": {
        "id": "xqCOgfsFOz3g"
      }
    },
    {
      "cell_type": "markdown",
      "source": [
        "#### Divizarea datelor în setul de antrenare și setul de testare"
      ],
      "metadata": {
        "id": "Kw6G8cUqr34S"
      }
    },
    {
      "cell_type": "code",
      "source": [
        "X_train, X_test, y_train, y_test = train_test_split(\n",
        "    reviews['text_prep'],\n",
        "    reviews['positive'],\n",
        "    test_size=0.2,\n",
        "    random_state=42\n",
        ")"
      ],
      "metadata": {
        "id": "iee-eHwSsBNL"
      },
      "execution_count": null,
      "outputs": []
    },
    {
      "cell_type": "markdown",
      "source": [
        "#### Construirea matricei Bag-of-Words (BWW)"
      ],
      "metadata": {
        "id": "f6YYqeE6rbPi"
      }
    },
    {
      "cell_type": "code",
      "source": [
        "vectorizer = CountVectorizer()\n",
        "X_train_bow = vectorizer.fit_transform(X_train)\n",
        "X_test_bow = vectorizer.transform(X_test)"
      ],
      "metadata": {
        "id": "5XXTIRRZrilq"
      },
      "execution_count": null,
      "outputs": []
    },
    {
      "cell_type": "markdown",
      "source": [
        "#### Antrenarea modelului XGBoost"
      ],
      "metadata": {
        "id": "PPN1GZYYsIUO"
      }
    },
    {
      "cell_type": "code",
      "source": [
        "model = XGBClassifier(\n",
        "    booster='gbtree',\n",
        "    objective='binary:logistic',\n",
        "    verbosity=3,\n",
        "    learning_rate=0.1,\n",
        "    n_estimators=200,\n",
        "    max_depth=8,\n",
        "    max_leaves=32,\n",
        "    subsample=0.95,\n",
        "    eval_metric='auc'\n",
        ")"
      ],
      "metadata": {
        "id": "iy9HjysrsMw7"
      },
      "execution_count": null,
      "outputs": []
    },
    {
      "cell_type": "code",
      "source": [
        "model.fit(X_train_bow, y_train, eval_set=[(X_test_bow, y_test)])"
      ],
      "metadata": {
        "colab": {
          "base_uri": "https://localhost:8080/",
          "height": 1000
        },
        "id": "MgRSddZb82we",
        "outputId": "731305f1-50eb-4247-daac-9457f221f81c"
      },
      "execution_count": null,
      "outputs": [
        {
          "output_type": "stream",
          "name": "stdout",
          "text": [
            "[18:14:21] ======== Monitor (0): HostSketchContainer ========\n",
            "[18:14:21] AllReduce: 0.004197s, 1 calls @ 4197us\n",
            "\n",
            "[18:14:21] MakeCuts: 0.007428s, 1 calls @ 7428us\n",
            "\n",
            "[18:14:21] DEBUG: /workspace/src/gbm/gbtree.cc:130: Using tree method: 0\n",
            "[0]\tvalidation_0-auc:0.78915\n",
            "[1]\tvalidation_0-auc:0.80206\n",
            "[2]\tvalidation_0-auc:0.83452\n",
            "[3]\tvalidation_0-auc:0.85146\n",
            "[4]\tvalidation_0-auc:0.86511\n",
            "[5]\tvalidation_0-auc:0.87592\n",
            "[6]\tvalidation_0-auc:0.88180\n",
            "[7]\tvalidation_0-auc:0.89113\n",
            "[8]\tvalidation_0-auc:0.89729\n",
            "[9]\tvalidation_0-auc:0.89967\n",
            "[10]\tvalidation_0-auc:0.90397\n",
            "[11]\tvalidation_0-auc:0.90633\n",
            "[12]\tvalidation_0-auc:0.91198\n",
            "[13]\tvalidation_0-auc:0.91624\n",
            "[14]\tvalidation_0-auc:0.91878\n",
            "[15]\tvalidation_0-auc:0.92137\n",
            "[16]\tvalidation_0-auc:0.92372\n",
            "[17]\tvalidation_0-auc:0.92633\n",
            "[18]\tvalidation_0-auc:0.92687\n",
            "[19]\tvalidation_0-auc:0.92810\n",
            "[20]\tvalidation_0-auc:0.92964\n",
            "[21]\tvalidation_0-auc:0.93242\n",
            "[22]\tvalidation_0-auc:0.93389\n",
            "[23]\tvalidation_0-auc:0.93536\n",
            "[24]\tvalidation_0-auc:0.93706\n",
            "[25]\tvalidation_0-auc:0.93741\n",
            "[26]\tvalidation_0-auc:0.93895\n",
            "[27]\tvalidation_0-auc:0.93916\n",
            "[28]\tvalidation_0-auc:0.94095\n",
            "[29]\tvalidation_0-auc:0.94235\n",
            "[30]\tvalidation_0-auc:0.94336\n",
            "[31]\tvalidation_0-auc:0.94379\n",
            "[32]\tvalidation_0-auc:0.94513\n",
            "[33]\tvalidation_0-auc:0.94630\n",
            "[34]\tvalidation_0-auc:0.94717\n",
            "[35]\tvalidation_0-auc:0.94756\n",
            "[36]\tvalidation_0-auc:0.94864\n",
            "[37]\tvalidation_0-auc:0.94911\n",
            "[38]\tvalidation_0-auc:0.95024\n",
            "[39]\tvalidation_0-auc:0.95090\n",
            "[40]\tvalidation_0-auc:0.95146\n",
            "[41]\tvalidation_0-auc:0.95214\n",
            "[42]\tvalidation_0-auc:0.95290\n",
            "[43]\tvalidation_0-auc:0.95333\n",
            "[44]\tvalidation_0-auc:0.95345\n",
            "[45]\tvalidation_0-auc:0.95363\n",
            "[46]\tvalidation_0-auc:0.95380\n",
            "[47]\tvalidation_0-auc:0.95406\n",
            "[48]\tvalidation_0-auc:0.95405\n",
            "[49]\tvalidation_0-auc:0.95467\n",
            "[50]\tvalidation_0-auc:0.95529\n",
            "[51]\tvalidation_0-auc:0.95563\n",
            "[52]\tvalidation_0-auc:0.95623\n",
            "[53]\tvalidation_0-auc:0.95654\n",
            "[54]\tvalidation_0-auc:0.95669\n",
            "[55]\tvalidation_0-auc:0.95681\n",
            "[56]\tvalidation_0-auc:0.95742\n",
            "[57]\tvalidation_0-auc:0.95759\n",
            "[58]\tvalidation_0-auc:0.95747\n",
            "[59]\tvalidation_0-auc:0.95761\n",
            "[60]\tvalidation_0-auc:0.95826\n",
            "[61]\tvalidation_0-auc:0.95830\n",
            "[62]\tvalidation_0-auc:0.95862\n",
            "[63]\tvalidation_0-auc:0.95889\n",
            "[64]\tvalidation_0-auc:0.95943\n",
            "[65]\tvalidation_0-auc:0.95974\n",
            "[66]\tvalidation_0-auc:0.96019\n",
            "[67]\tvalidation_0-auc:0.96027\n",
            "[68]\tvalidation_0-auc:0.96043\n",
            "[69]\tvalidation_0-auc:0.96062\n",
            "[70]\tvalidation_0-auc:0.96091\n",
            "[71]\tvalidation_0-auc:0.96149\n",
            "[72]\tvalidation_0-auc:0.96182\n",
            "[73]\tvalidation_0-auc:0.96166\n",
            "[74]\tvalidation_0-auc:0.96166\n",
            "[75]\tvalidation_0-auc:0.96165\n",
            "[76]\tvalidation_0-auc:0.96166\n",
            "[77]\tvalidation_0-auc:0.96161\n",
            "[78]\tvalidation_0-auc:0.96145\n",
            "[79]\tvalidation_0-auc:0.96170\n",
            "[80]\tvalidation_0-auc:0.96197\n",
            "[81]\tvalidation_0-auc:0.96202\n",
            "[82]\tvalidation_0-auc:0.96202\n",
            "[83]\tvalidation_0-auc:0.96225\n",
            "[84]\tvalidation_0-auc:0.96241\n",
            "[85]\tvalidation_0-auc:0.96247\n",
            "[86]\tvalidation_0-auc:0.96277\n",
            "[87]\tvalidation_0-auc:0.96303\n",
            "[88]\tvalidation_0-auc:0.96346\n",
            "[89]\tvalidation_0-auc:0.96349\n",
            "[90]\tvalidation_0-auc:0.96385\n",
            "[91]\tvalidation_0-auc:0.96380\n",
            "[92]\tvalidation_0-auc:0.96378\n",
            "[93]\tvalidation_0-auc:0.96403\n",
            "[94]\tvalidation_0-auc:0.96381\n",
            "[95]\tvalidation_0-auc:0.96363\n",
            "[96]\tvalidation_0-auc:0.96374\n",
            "[97]\tvalidation_0-auc:0.96402\n",
            "[98]\tvalidation_0-auc:0.96408\n",
            "[99]\tvalidation_0-auc:0.96425\n",
            "[100]\tvalidation_0-auc:0.96422\n",
            "[101]\tvalidation_0-auc:0.96447\n",
            "[102]\tvalidation_0-auc:0.96464\n",
            "[103]\tvalidation_0-auc:0.96478\n",
            "[104]\tvalidation_0-auc:0.96467\n",
            "[105]\tvalidation_0-auc:0.96462\n",
            "[106]\tvalidation_0-auc:0.96467\n",
            "[107]\tvalidation_0-auc:0.96478\n",
            "[108]\tvalidation_0-auc:0.96490\n",
            "[109]\tvalidation_0-auc:0.96492\n",
            "[110]\tvalidation_0-auc:0.96491\n",
            "[111]\tvalidation_0-auc:0.96499\n",
            "[112]\tvalidation_0-auc:0.96503\n",
            "[113]\tvalidation_0-auc:0.96512\n",
            "[114]\tvalidation_0-auc:0.96518\n",
            "[115]\tvalidation_0-auc:0.96538\n",
            "[116]\tvalidation_0-auc:0.96544\n",
            "[117]\tvalidation_0-auc:0.96542\n",
            "[118]\tvalidation_0-auc:0.96546\n",
            "[119]\tvalidation_0-auc:0.96558\n",
            "[120]\tvalidation_0-auc:0.96564\n",
            "[121]\tvalidation_0-auc:0.96568\n",
            "[122]\tvalidation_0-auc:0.96562\n",
            "[123]\tvalidation_0-auc:0.96576\n",
            "[124]\tvalidation_0-auc:0.96577\n",
            "[125]\tvalidation_0-auc:0.96598\n",
            "[126]\tvalidation_0-auc:0.96597\n",
            "[127]\tvalidation_0-auc:0.96602\n",
            "[128]\tvalidation_0-auc:0.96604\n",
            "[129]\tvalidation_0-auc:0.96610\n",
            "[130]\tvalidation_0-auc:0.96602\n",
            "[131]\tvalidation_0-auc:0.96612\n",
            "[132]\tvalidation_0-auc:0.96626\n",
            "[133]\tvalidation_0-auc:0.96634\n",
            "[134]\tvalidation_0-auc:0.96651\n",
            "[135]\tvalidation_0-auc:0.96663\n",
            "[136]\tvalidation_0-auc:0.96663\n",
            "[137]\tvalidation_0-auc:0.96667\n",
            "[138]\tvalidation_0-auc:0.96689\n",
            "[139]\tvalidation_0-auc:0.96705\n",
            "[140]\tvalidation_0-auc:0.96691\n",
            "[141]\tvalidation_0-auc:0.96701\n",
            "[142]\tvalidation_0-auc:0.96705\n",
            "[143]\tvalidation_0-auc:0.96703\n",
            "[144]\tvalidation_0-auc:0.96723\n",
            "[145]\tvalidation_0-auc:0.96721\n",
            "[146]\tvalidation_0-auc:0.96729\n",
            "[147]\tvalidation_0-auc:0.96711\n",
            "[148]\tvalidation_0-auc:0.96716\n",
            "[149]\tvalidation_0-auc:0.96725\n",
            "[150]\tvalidation_0-auc:0.96741\n",
            "[151]\tvalidation_0-auc:0.96749\n",
            "[152]\tvalidation_0-auc:0.96748\n",
            "[153]\tvalidation_0-auc:0.96746\n",
            "[154]\tvalidation_0-auc:0.96757\n",
            "[155]\tvalidation_0-auc:0.96770\n",
            "[156]\tvalidation_0-auc:0.96760\n",
            "[157]\tvalidation_0-auc:0.96755\n",
            "[158]\tvalidation_0-auc:0.96766\n",
            "[159]\tvalidation_0-auc:0.96760\n",
            "[160]\tvalidation_0-auc:0.96768\n",
            "[161]\tvalidation_0-auc:0.96786\n",
            "[162]\tvalidation_0-auc:0.96777\n",
            "[163]\tvalidation_0-auc:0.96786\n",
            "[164]\tvalidation_0-auc:0.96765\n",
            "[165]\tvalidation_0-auc:0.96768\n",
            "[166]\tvalidation_0-auc:0.96784\n",
            "[167]\tvalidation_0-auc:0.96803\n",
            "[168]\tvalidation_0-auc:0.96799\n",
            "[169]\tvalidation_0-auc:0.96802\n",
            "[170]\tvalidation_0-auc:0.96805\n",
            "[171]\tvalidation_0-auc:0.96816\n",
            "[172]\tvalidation_0-auc:0.96825\n",
            "[173]\tvalidation_0-auc:0.96834\n",
            "[174]\tvalidation_0-auc:0.96836\n",
            "[175]\tvalidation_0-auc:0.96821\n",
            "[176]\tvalidation_0-auc:0.96823\n",
            "[177]\tvalidation_0-auc:0.96822\n",
            "[178]\tvalidation_0-auc:0.96836\n",
            "[179]\tvalidation_0-auc:0.96829\n",
            "[180]\tvalidation_0-auc:0.96829\n",
            "[181]\tvalidation_0-auc:0.96832\n",
            "[182]\tvalidation_0-auc:0.96837\n",
            "[183]\tvalidation_0-auc:0.96825\n",
            "[184]\tvalidation_0-auc:0.96822\n",
            "[185]\tvalidation_0-auc:0.96826\n",
            "[186]\tvalidation_0-auc:0.96830\n",
            "[187]\tvalidation_0-auc:0.96846\n",
            "[188]\tvalidation_0-auc:0.96847\n",
            "[189]\tvalidation_0-auc:0.96844\n",
            "[190]\tvalidation_0-auc:0.96848\n",
            "[191]\tvalidation_0-auc:0.96851\n",
            "[192]\tvalidation_0-auc:0.96849\n",
            "[193]\tvalidation_0-auc:0.96854\n",
            "[194]\tvalidation_0-auc:0.96856\n",
            "[195]\tvalidation_0-auc:0.96866\n",
            "[196]\tvalidation_0-auc:0.96875\n",
            "[197]\tvalidation_0-auc:0.96881\n",
            "[198]\tvalidation_0-auc:0.96885\n",
            "[199]\tvalidation_0-auc:0.96868\n",
            "[18:15:41] ======== Monitor (0): Learner ========\n",
            "[18:15:41] Configure: 0.002942s, 1 calls @ 2942us\n",
            "\n",
            "[18:15:41] EvalOneIter: 72.1604s, 200 calls @ 72160402us\n",
            "\n",
            "[18:15:41] GetGradient: 0.196873s, 200 calls @ 196873us\n",
            "\n",
            "[18:15:41] PredictRaw: 0.001693s, 200 calls @ 1693us\n",
            "\n",
            "[18:15:41] UpdateOneIter: 6.74263s, 200 calls @ 6742628us\n",
            "\n",
            "[18:15:41] ======== Monitor (0): GBTree ========\n",
            "[18:15:41] BoostNewTrees: 6.53772s, 200 calls @ 6537720us\n",
            "\n",
            "[18:15:41] CommitModel: 0.000336s, 200 calls @ 336us\n",
            "\n",
            "[18:15:41] ======== Monitor (0): HistUpdater ========\n",
            "[18:15:41] BuildHistogram: 0.702721s, 1307 calls @ 702721us\n",
            "\n",
            "[18:15:41] EvaluateSplits: 4.96472s, 1507 calls @ 4964718us\n",
            "\n",
            "[18:15:41] InitData: 0.051307s, 200 calls @ 51307us\n",
            "\n",
            "[18:15:41] InitRoot: 0.367086s, 200 calls @ 367086us\n",
            "\n",
            "[18:15:41] LeafPartition: 8.7e-05s, 200 calls @ 87us\n",
            "\n",
            "[18:15:41] UpdatePosition: 0.525655s, 1507 calls @ 525655us\n",
            "\n",
            "[18:15:41] UpdatePredictionCache: 0.028087s, 200 calls @ 28087us\n",
            "\n",
            "[18:15:41] UpdateTree: 6.46349s, 200 calls @ 6463495us\n",
            "\n"
          ]
        },
        {
          "output_type": "execute_result",
          "data": {
            "text/plain": [
              "XGBClassifier(base_score=None, booster='gbtree', callbacks=None,\n",
              "              colsample_bylevel=None, colsample_bynode=None,\n",
              "              colsample_bytree=None, device=None, early_stopping_rounds=None,\n",
              "              enable_categorical=False, eval_metric='auc', feature_types=None,\n",
              "              gamma=None, grow_policy=None, importance_type=None,\n",
              "              interaction_constraints=None, learning_rate=0.1, max_bin=None,\n",
              "              max_cat_threshold=None, max_cat_to_onehot=None,\n",
              "              max_delta_step=None, max_depth=8, max_leaves=32,\n",
              "              min_child_weight=None, missing=nan, monotone_constraints=None,\n",
              "              multi_strategy=None, n_estimators=200, n_jobs=None,\n",
              "              num_parallel_tree=None, random_state=None, ...)"
            ],
            "text/html": [
              "<style>#sk-container-id-3 {color: black;background-color: white;}#sk-container-id-3 pre{padding: 0;}#sk-container-id-3 div.sk-toggleable {background-color: white;}#sk-container-id-3 label.sk-toggleable__label {cursor: pointer;display: block;width: 100%;margin-bottom: 0;padding: 0.3em;box-sizing: border-box;text-align: center;}#sk-container-id-3 label.sk-toggleable__label-arrow:before {content: \"▸\";float: left;margin-right: 0.25em;color: #696969;}#sk-container-id-3 label.sk-toggleable__label-arrow:hover:before {color: black;}#sk-container-id-3 div.sk-estimator:hover label.sk-toggleable__label-arrow:before {color: black;}#sk-container-id-3 div.sk-toggleable__content {max-height: 0;max-width: 0;overflow: hidden;text-align: left;background-color: #f0f8ff;}#sk-container-id-3 div.sk-toggleable__content pre {margin: 0.2em;color: black;border-radius: 0.25em;background-color: #f0f8ff;}#sk-container-id-3 input.sk-toggleable__control:checked~div.sk-toggleable__content {max-height: 200px;max-width: 100%;overflow: auto;}#sk-container-id-3 input.sk-toggleable__control:checked~label.sk-toggleable__label-arrow:before {content: \"▾\";}#sk-container-id-3 div.sk-estimator input.sk-toggleable__control:checked~label.sk-toggleable__label {background-color: #d4ebff;}#sk-container-id-3 div.sk-label input.sk-toggleable__control:checked~label.sk-toggleable__label {background-color: #d4ebff;}#sk-container-id-3 input.sk-hidden--visually {border: 0;clip: rect(1px 1px 1px 1px);clip: rect(1px, 1px, 1px, 1px);height: 1px;margin: -1px;overflow: hidden;padding: 0;position: absolute;width: 1px;}#sk-container-id-3 div.sk-estimator {font-family: monospace;background-color: #f0f8ff;border: 1px dotted black;border-radius: 0.25em;box-sizing: border-box;margin-bottom: 0.5em;}#sk-container-id-3 div.sk-estimator:hover {background-color: #d4ebff;}#sk-container-id-3 div.sk-parallel-item::after {content: \"\";width: 100%;border-bottom: 1px solid gray;flex-grow: 1;}#sk-container-id-3 div.sk-label:hover label.sk-toggleable__label {background-color: #d4ebff;}#sk-container-id-3 div.sk-serial::before {content: \"\";position: absolute;border-left: 1px solid gray;box-sizing: border-box;top: 0;bottom: 0;left: 50%;z-index: 0;}#sk-container-id-3 div.sk-serial {display: flex;flex-direction: column;align-items: center;background-color: white;padding-right: 0.2em;padding-left: 0.2em;position: relative;}#sk-container-id-3 div.sk-item {position: relative;z-index: 1;}#sk-container-id-3 div.sk-parallel {display: flex;align-items: stretch;justify-content: center;background-color: white;position: relative;}#sk-container-id-3 div.sk-item::before, #sk-container-id-3 div.sk-parallel-item::before {content: \"\";position: absolute;border-left: 1px solid gray;box-sizing: border-box;top: 0;bottom: 0;left: 50%;z-index: -1;}#sk-container-id-3 div.sk-parallel-item {display: flex;flex-direction: column;z-index: 1;position: relative;background-color: white;}#sk-container-id-3 div.sk-parallel-item:first-child::after {align-self: flex-end;width: 50%;}#sk-container-id-3 div.sk-parallel-item:last-child::after {align-self: flex-start;width: 50%;}#sk-container-id-3 div.sk-parallel-item:only-child::after {width: 0;}#sk-container-id-3 div.sk-dashed-wrapped {border: 1px dashed gray;margin: 0 0.4em 0.5em 0.4em;box-sizing: border-box;padding-bottom: 0.4em;background-color: white;}#sk-container-id-3 div.sk-label label {font-family: monospace;font-weight: bold;display: inline-block;line-height: 1.2em;}#sk-container-id-3 div.sk-label-container {text-align: center;}#sk-container-id-3 div.sk-container {/* jupyter's `normalize.less` sets `[hidden] { display: none; }` but bootstrap.min.css set `[hidden] { display: none !important; }` so we also need the `!important` here to be able to override the default hidden behavior on the sphinx rendered scikit-learn.org. See: https://github.com/scikit-learn/scikit-learn/issues/21755 */display: inline-block !important;position: relative;}#sk-container-id-3 div.sk-text-repr-fallback {display: none;}</style><div id=\"sk-container-id-3\" class=\"sk-top-container\"><div class=\"sk-text-repr-fallback\"><pre>XGBClassifier(base_score=None, booster=&#x27;gbtree&#x27;, callbacks=None,\n",
              "              colsample_bylevel=None, colsample_bynode=None,\n",
              "              colsample_bytree=None, device=None, early_stopping_rounds=None,\n",
              "              enable_categorical=False, eval_metric=&#x27;auc&#x27;, feature_types=None,\n",
              "              gamma=None, grow_policy=None, importance_type=None,\n",
              "              interaction_constraints=None, learning_rate=0.1, max_bin=None,\n",
              "              max_cat_threshold=None, max_cat_to_onehot=None,\n",
              "              max_delta_step=None, max_depth=8, max_leaves=32,\n",
              "              min_child_weight=None, missing=nan, monotone_constraints=None,\n",
              "              multi_strategy=None, n_estimators=200, n_jobs=None,\n",
              "              num_parallel_tree=None, random_state=None, ...)</pre><b>In a Jupyter environment, please rerun this cell to show the HTML representation or trust the notebook. <br />On GitHub, the HTML representation is unable to render, please try loading this page with nbviewer.org.</b></div><div class=\"sk-container\" hidden><div class=\"sk-item\"><div class=\"sk-estimator sk-toggleable\"><input class=\"sk-toggleable__control sk-hidden--visually\" id=\"sk-estimator-id-3\" type=\"checkbox\" checked><label for=\"sk-estimator-id-3\" class=\"sk-toggleable__label sk-toggleable__label-arrow\">XGBClassifier</label><div class=\"sk-toggleable__content\"><pre>XGBClassifier(base_score=None, booster=&#x27;gbtree&#x27;, callbacks=None,\n",
              "              colsample_bylevel=None, colsample_bynode=None,\n",
              "              colsample_bytree=None, device=None, early_stopping_rounds=None,\n",
              "              enable_categorical=False, eval_metric=&#x27;auc&#x27;, feature_types=None,\n",
              "              gamma=None, grow_policy=None, importance_type=None,\n",
              "              interaction_constraints=None, learning_rate=0.1, max_bin=None,\n",
              "              max_cat_threshold=None, max_cat_to_onehot=None,\n",
              "              max_delta_step=None, max_depth=8, max_leaves=32,\n",
              "              min_child_weight=None, missing=nan, monotone_constraints=None,\n",
              "              multi_strategy=None, n_estimators=200, n_jobs=None,\n",
              "              num_parallel_tree=None, random_state=None, ...)</pre></div></div></div></div></div>"
            ]
          },
          "metadata": {},
          "execution_count": 53
        }
      ]
    },
    {
      "cell_type": "markdown",
      "source": [
        "#### Predicția pe setul de testare"
      ],
      "metadata": {
        "id": "sakHQ0LgsPRd"
      }
    },
    {
      "cell_type": "code",
      "source": [
        "y_test_bow_preds = model.predict(X_test_bow)"
      ],
      "metadata": {
        "colab": {
          "base_uri": "https://localhost:8080/"
        },
        "id": "mJi6JyOusTzs",
        "outputId": "6a2debea-75f9-4481-e5d0-6ee0b4e1d892"
      },
      "execution_count": null,
      "outputs": [
        {
          "output_type": "stream",
          "name": "stdout",
          "text": [
            "[18:15:49] DEBUG: /workspace/src/gbm/gbtree.cc:130: Using tree method: 0\n"
          ]
        }
      ]
    },
    {
      "cell_type": "markdown",
      "source": [
        "### Afișarea matricei de confuzie pentru modelul BOW cu XGBoost"
      ],
      "metadata": {
        "id": "A12HMX9P-z4i"
      }
    },
    {
      "cell_type": "code",
      "source": [
        "_ = ConfusionMatrixDisplay.from_estimator(model, X_test_bow, y_test, labels=[0, 1])\n",
        "\n",
        "plt.title('Confusion Matrix')\n",
        "plt.xlabel('Predicted')\n",
        "plt.ylabel('True')\n",
        "plt.show()"
      ],
      "metadata": {
        "colab": {
          "base_uri": "https://localhost:8080/",
          "height": 472
        },
        "id": "Dd7gYKeX9zLK",
        "outputId": "69271874-8d8c-4d6f-f26d-56d89d55cf19"
      },
      "execution_count": null,
      "outputs": [
        {
          "output_type": "display_data",
          "data": {
            "text/plain": [
              "<Figure size 640x480 with 2 Axes>"
            ],
            "image/png": "[encoded data removed]"
          },
          "metadata": {}
        }
      ]
    },
    {
      "cell_type": "markdown",
      "source": [
        "### Curba ROC pentru modelul BOW cu XGBoost"
      ],
      "metadata": {
        "id": "-tAGo8j5IKic"
      }
    },
    {
      "cell_type": "markdown",
      "source": [
        "#### Pentru a genera curba ROC calculez probabilitățile aferente claselor, ratele de adevărat pozitiv și fals pozitiv pentru curba ROC, apoi calculez aria de sub curbă"
      ],
      "metadata": {
        "id": "5Pm4ROoBHt25"
      }
    },
    {
      "cell_type": "code",
      "source": [
        "# Calcularea probabilităților de clasificare pentru clasa pozitivă\n",
        "y_prob_bow = model.predict_proba(X_test_bow)[:, 1]\n",
        "\n",
        "# Calcularea ratelelor de TPR și FPR\n",
        "fpr_bow, tpr_bow, _ = roc_curve(y_test, y_prob_bow)\n",
        "\n",
        "# Calcularea AUC (Area Under Curve)\n",
        "roc_auc_bow = auc(fpr_bow, tpr_bow)\n",
        "\n",
        "# Trasarea curbei ROC\n",
        "plt.figure()\n",
        "plt.plot(fpr_bow, tpr_bow, color='darkorange', lw=2, label='ROC curve (area = %0.2f)' % roc_auc_bow)\n",
        "plt.plot([0, 1], [0, 1], color='navy', lw=2, linestyle='--')\n",
        "plt.xlim([0.0, 1.0])\n",
        "plt.ylim([0.0, 1.05])\n",
        "plt.xlabel('False Positive Rate')\n",
        "plt.ylabel('True Positive Rate')\n",
        "plt.title('ROC Curve - BOW with XGBoost')\n",
        "plt.legend(loc=\"lower right\")\n",
        "plt.show()"
      ],
      "metadata": {
        "colab": {
          "base_uri": "https://localhost:8080/",
          "height": 472
        },
        "id": "oc4FIeLeHuRf",
        "outputId": "5881f831-46fe-4eb1-825b-7944c6f536dc"
      },
      "execution_count": null,
      "outputs": [
        {
          "output_type": "display_data",
          "data": {
            "text/plain": [
              "<Figure size 640x480 with 1 Axes>"
            ],
            "image/png": "[encoded data removed]"
          },
          "metadata": {}
        }
      ]
    },
    {
      "cell_type": "markdown",
      "source": [
        "#### Classification Report"
      ],
      "metadata": {
        "id": "bPmjQ2d1sV2g"
      }
    },
    {
      "cell_type": "code",
      "source": [
        "print('Classification Report pe setul de test\\n',\n",
        "      classification_report(y_test, y_test_bow_preds)\n",
        ")"
      ],
      "metadata": {
        "colab": {
          "base_uri": "https://localhost:8080/"
        },
        "id": "UG7ZZ1x-shRH",
        "outputId": "94cdddae-b657-4efc-d580-48d7100ad7b5"
      },
      "execution_count": null,
      "outputs": [
        {
          "output_type": "stream",
          "name": "stdout",
          "text": [
            "Classification Report pe setul de test\n",
            "               precision    recall  f1-score   support\n",
            "\n",
            "           0       0.91      0.77      0.83       437\n",
            "           1       0.94      0.98      0.96      1551\n",
            "\n",
            "    accuracy                           0.93      1988\n",
            "   macro avg       0.92      0.87      0.89      1988\n",
            "weighted avg       0.93      0.93      0.93      1988\n",
            "\n"
          ]
        }
      ]
    },
    {
      "cell_type": "markdown",
      "source": [
        "### II. Word2Vec și antrenarea unui model XGBoost"
      ],
      "metadata": {
        "id": "6_1yRYYn_57T"
      }
    },
    {
      "cell_type": "markdown",
      "source": [
        "#### Antrenarea modelului Word2Vec"
      ],
      "metadata": {
        "id": "tfe3eqzKBoYK"
      }
    },
    {
      "cell_type": "code",
      "source": [
        "sentences = [review.split() for review in X_train]\n",
        "word2vec_model = Word2Vec(sentences, vector_size=100, window=5, min_count=1, workers=4)"
      ],
      "metadata": {
        "id": "VsGNtg7GBoqf"
      },
      "execution_count": null,
      "outputs": []
    },
    {
      "cell_type": "markdown",
      "source": [
        "#### Reprezentarea textului cu vectorii Word2Vec"
      ],
      "metadata": {
        "id": "nG95klGpBo4n"
      }
    },
    {
      "cell_type": "code",
      "source": [
        "def text_to_vector(text):\n",
        "    tokens = text.split()\n",
        "    vector = np.zeros(word2vec_model.vector_size)\n",
        "    for token in tokens:\n",
        "        if token in word2vec_model.wv.key_to_index:\n",
        "            vector += word2vec_model.wv[token]\n",
        "    return vector\n",
        "\n",
        "X_train_vec = np.vstack(X_train.apply(text_to_vector))\n",
        "X_test_vec = np.vstack(X_test.apply(text_to_vector))"
      ],
      "metadata": {
        "id": "Bljb4yWvBpC3"
      },
      "execution_count": null,
      "outputs": []
    },
    {
      "cell_type": "markdown",
      "source": [
        "#### Antrenarea modelului XGBoost"
      ],
      "metadata": {
        "id": "ZZL_6V5NBpOI"
      }
    },
    {
      "cell_type": "code",
      "source": [
        "xgb_model = XGBClassifier()\n",
        "xgb_model.fit(X_train_vec, y_train)"
      ],
      "metadata": {
        "colab": {
          "base_uri": "https://localhost:8080/",
          "height": 248
        },
        "id": "s6usd69yBpXk",
        "outputId": "970b1a7a-519c-4401-f52f-1e8df06657c6"
      },
      "execution_count": null,
      "outputs": [
        {
          "output_type": "execute_result",
          "data": {
            "text/plain": [
              "XGBClassifier(base_score=None, booster=None, callbacks=None,\n",
              "              colsample_bylevel=None, colsample_bynode=None,\n",
              "              colsample_bytree=None, device=None, early_stopping_rounds=None,\n",
              "              enable_categorical=False, eval_metric=None, feature_types=None,\n",
              "              gamma=None, grow_policy=None, importance_type=None,\n",
              "              interaction_constraints=None, learning_rate=None, max_bin=None,\n",
              "              max_cat_threshold=None, max_cat_to_onehot=None,\n",
              "              max_delta_step=None, max_depth=None, max_leaves=None,\n",
              "              min_child_weight=None, missing=nan, monotone_constraints=None,\n",
              "              multi_strategy=None, n_estimators=None, n_jobs=None,\n",
              "              num_parallel_tree=None, random_state=None, ...)"
            ],
            "text/html": [
              "<style>#sk-container-id-4 {color: black;background-color: white;}#sk-container-id-4 pre{padding: 0;}#sk-container-id-4 div.sk-toggleable {background-color: white;}#sk-container-id-4 label.sk-toggleable__label {cursor: pointer;display: block;width: 100%;margin-bottom: 0;padding: 0.3em;box-sizing: border-box;text-align: center;}#sk-container-id-4 label.sk-toggleable__label-arrow:before {content: \"▸\";float: left;margin-right: 0.25em;color: #696969;}#sk-container-id-4 label.sk-toggleable__label-arrow:hover:before {color: black;}#sk-container-id-4 div.sk-estimator:hover label.sk-toggleable__label-arrow:before {color: black;}#sk-container-id-4 div.sk-toggleable__content {max-height: 0;max-width: 0;overflow: hidden;text-align: left;background-color: #f0f8ff;}#sk-container-id-4 div.sk-toggleable__content pre {margin: 0.2em;color: black;border-radius: 0.25em;background-color: #f0f8ff;}#sk-container-id-4 input.sk-toggleable__control:checked~div.sk-toggleable__content {max-height: 200px;max-width: 100%;overflow: auto;}#sk-container-id-4 input.sk-toggleable__control:checked~label.sk-toggleable__label-arrow:before {content: \"▾\";}#sk-container-id-4 div.sk-estimator input.sk-toggleable__control:checked~label.sk-toggleable__label {background-color: #d4ebff;}#sk-container-id-4 div.sk-label input.sk-toggleable__control:checked~label.sk-toggleable__label {background-color: #d4ebff;}#sk-container-id-4 input.sk-hidden--visually {border: 0;clip: rect(1px 1px 1px 1px);clip: rect(1px, 1px, 1px, 1px);height: 1px;margin: -1px;overflow: hidden;padding: 0;position: absolute;width: 1px;}#sk-container-id-4 div.sk-estimator {font-family: monospace;background-color: #f0f8ff;border: 1px dotted black;border-radius: 0.25em;box-sizing: border-box;margin-bottom: 0.5em;}#sk-container-id-4 div.sk-estimator:hover {background-color: #d4ebff;}#sk-container-id-4 div.sk-parallel-item::after {content: \"\";width: 100%;border-bottom: 1px solid gray;flex-grow: 1;}#sk-container-id-4 div.sk-label:hover label.sk-toggleable__label {background-color: #d4ebff;}#sk-container-id-4 div.sk-serial::before {content: \"\";position: absolute;border-left: 1px solid gray;box-sizing: border-box;top: 0;bottom: 0;left: 50%;z-index: 0;}#sk-container-id-4 div.sk-serial {display: flex;flex-direction: column;align-items: center;background-color: white;padding-right: 0.2em;padding-left: 0.2em;position: relative;}#sk-container-id-4 div.sk-item {position: relative;z-index: 1;}#sk-container-id-4 div.sk-parallel {display: flex;align-items: stretch;justify-content: center;background-color: white;position: relative;}#sk-container-id-4 div.sk-item::before, #sk-container-id-4 div.sk-parallel-item::before {content: \"\";position: absolute;border-left: 1px solid gray;box-sizing: border-box;top: 0;bottom: 0;left: 50%;z-index: -1;}#sk-container-id-4 div.sk-parallel-item {display: flex;flex-direction: column;z-index: 1;position: relative;background-color: white;}#sk-container-id-4 div.sk-parallel-item:first-child::after {align-self: flex-end;width: 50%;}#sk-container-id-4 div.sk-parallel-item:last-child::after {align-self: flex-start;width: 50%;}#sk-container-id-4 div.sk-parallel-item:only-child::after {width: 0;}#sk-container-id-4 div.sk-dashed-wrapped {border: 1px dashed gray;margin: 0 0.4em 0.5em 0.4em;box-sizing: border-box;padding-bottom: 0.4em;background-color: white;}#sk-container-id-4 div.sk-label label {font-family: monospace;font-weight: bold;display: inline-block;line-height: 1.2em;}#sk-container-id-4 div.sk-label-container {text-align: center;}#sk-container-id-4 div.sk-container {/* jupyter's `normalize.less` sets `[hidden] { display: none; }` but bootstrap.min.css set `[hidden] { display: none !important; }` so we also need the `!important` here to be able to override the default hidden behavior on the sphinx rendered scikit-learn.org. See: https://github.com/scikit-learn/scikit-learn/issues/21755 */display: inline-block !important;position: relative;}#sk-container-id-4 div.sk-text-repr-fallback {display: none;}</style><div id=\"sk-container-id-4\" class=\"sk-top-container\"><div class=\"sk-text-repr-fallback\"><pre>XGBClassifier(base_score=None, booster=None, callbacks=None,\n",
              "              colsample_bylevel=None, colsample_bynode=None,\n",
              "              colsample_bytree=None, device=None, early_stopping_rounds=None,\n",
              "              enable_categorical=False, eval_metric=None, feature_types=None,\n",
              "              gamma=None, grow_policy=None, importance_type=None,\n",
              "              interaction_constraints=None, learning_rate=None, max_bin=None,\n",
              "              max_cat_threshold=None, max_cat_to_onehot=None,\n",
              "              max_delta_step=None, max_depth=None, max_leaves=None,\n",
              "              min_child_weight=None, missing=nan, monotone_constraints=None,\n",
              "              multi_strategy=None, n_estimators=None, n_jobs=None,\n",
              "              num_parallel_tree=None, random_state=None, ...)</pre><b>In a Jupyter environment, please rerun this cell to show the HTML representation or trust the notebook. <br />On GitHub, the HTML representation is unable to render, please try loading this page with nbviewer.org.</b></div><div class=\"sk-container\" hidden><div class=\"sk-item\"><div class=\"sk-estimator sk-toggleable\"><input class=\"sk-toggleable__control sk-hidden--visually\" id=\"sk-estimator-id-4\" type=\"checkbox\" checked><label for=\"sk-estimator-id-4\" class=\"sk-toggleable__label sk-toggleable__label-arrow\">XGBClassifier</label><div class=\"sk-toggleable__content\"><pre>XGBClassifier(base_score=None, booster=None, callbacks=None,\n",
              "              colsample_bylevel=None, colsample_bynode=None,\n",
              "              colsample_bytree=None, device=None, early_stopping_rounds=None,\n",
              "              enable_categorical=False, eval_metric=None, feature_types=None,\n",
              "              gamma=None, grow_policy=None, importance_type=None,\n",
              "              interaction_constraints=None, learning_rate=None, max_bin=None,\n",
              "              max_cat_threshold=None, max_cat_to_onehot=None,\n",
              "              max_delta_step=None, max_depth=None, max_leaves=None,\n",
              "              min_child_weight=None, missing=nan, monotone_constraints=None,\n",
              "              multi_strategy=None, n_estimators=None, n_jobs=None,\n",
              "              num_parallel_tree=None, random_state=None, ...)</pre></div></div></div></div></div>"
            ]
          },
          "metadata": {},
          "execution_count": 60
        }
      ]
    },
    {
      "cell_type": "markdown",
      "source": [
        "### Afișarea matricei de confuzie pentru modelul Word2Vec cu XGBoost\n"
      ],
      "metadata": {
        "id": "MdxvZXph_ChH"
      }
    },
    {
      "cell_type": "code",
      "source": [
        "_ = ConfusionMatrixDisplay.from_estimator(xgb_model, X_test_vec, y_test, labels=[0, 1])\n",
        "\n",
        "plt.title('Confusion Matrix')\n",
        "plt.xlabel('Predicted')\n",
        "plt.ylabel('True')\n",
        "plt.show()"
      ],
      "metadata": {
        "colab": {
          "base_uri": "https://localhost:8080/",
          "height": 472
        },
        "id": "g5whZHqE_GR5",
        "outputId": "b72c062e-91ad-4b65-ac72-64e219abafe2"
      },
      "execution_count": null,
      "outputs": [
        {
          "output_type": "display_data",
          "data": {
            "text/plain": [
              "<Figure size 640x480 with 2 Axes>"
            ],
            "image/png": "[encoded data removed]"
          },
          "metadata": {}
        }
      ]
    },
    {
      "cell_type": "markdown",
      "source": [
        "### Curba ROC pentru modelul Word2Vec cu XGBoost"
      ],
      "metadata": {
        "id": "PT98OVskImoC"
      }
    },
    {
      "cell_type": "code",
      "source": [
        "# Calcularea probabilităților de clasificare pentru clasa pozitivă\n",
        "y_prob_w2v = xgb_model.predict_proba(X_test_vec)[:, 1]\n",
        "\n",
        "# Calcularea ratelelor de TPR și FPR\n",
        "fpr_w2v, tpr_w2v, _ = roc_curve(y_test, y_prob_w2v)\n",
        "\n",
        "# Calcularea AUC (Area Under Curve)\n",
        "roc_auc_w2v = auc(fpr_w2v, tpr_w2v)\n",
        "\n",
        "# Trasarea curbei ROC\n",
        "plt.figure()\n",
        "plt.plot(fpr_w2v, tpr_w2v, color='darkorange', lw=2, label='ROC curve (area = %0.2f)' % roc_auc_w2v)\n",
        "plt.plot([0, 1], [0, 1], color='navy', lw=2, linestyle='--')\n",
        "plt.xlim([0.0, 1.0])\n",
        "plt.ylim([0.0, 1.05])\n",
        "plt.xlabel('False Positive Rate')\n",
        "plt.ylabel('True Positive Rate')\n",
        "plt.title('ROC Curve - Word2Vec with XGBoost')\n",
        "plt.legend(loc=\"lower right\")\n",
        "plt.show()"
      ],
      "metadata": {
        "colab": {
          "base_uri": "https://localhost:8080/",
          "height": 472
        },
        "id": "cywoz-tCI1Nd",
        "outputId": "20d1191e-61ff-42de-aae8-e6c65cbbd648"
      },
      "execution_count": null,
      "outputs": [
        {
          "output_type": "display_data",
          "data": {
            "text/plain": [
              "<Figure size 640x480 with 1 Axes>"
            ],
            "image/png": "[encoded data removed]"
          },
          "metadata": {}
        }
      ]
    },
    {
      "cell_type": "markdown",
      "source": [
        "#### Classification Report"
      ],
      "metadata": {
        "id": "hNph3pVdBpgf"
      }
    },
    {
      "cell_type": "code",
      "source": [
        "y_pred = xgb_model.predict(X_test_vec)\n",
        "print(classification_report(y_test, y_pred))"
      ],
      "metadata": {
        "colab": {
          "base_uri": "https://localhost:8080/"
        },
        "id": "UgxRbxH4Bpp_",
        "outputId": "d42b5476-afb5-42f0-a164-bd3b72f57658"
      },
      "execution_count": null,
      "outputs": [
        {
          "output_type": "stream",
          "name": "stdout",
          "text": [
            "              precision    recall  f1-score   support\n",
            "\n",
            "           0       0.78      0.66      0.72       437\n",
            "           1       0.91      0.95      0.93      1551\n",
            "\n",
            "    accuracy                           0.88      1988\n",
            "   macro avg       0.84      0.80      0.82      1988\n",
            "weighted avg       0.88      0.88      0.88      1988\n",
            "\n"
          ]
        }
      ]
    },
    {
      "cell_type": "markdown",
      "source": [
        "# Interpretarea rezultatelor și compararea modelelor"
      ],
      "metadata": {
        "id": "L2mPXw0k_Mgq"
      }
    },
    {
      "cell_type": "code",
      "source": [
        "# Raportul de clasificare pentru modelul BOW cu XGBoost\n",
        "print(\"Raportul de clasificare pentru modelul BOW cu XGBoost:\")\n",
        "print(classification_report(y_test, y_test_bow_preds))\n",
        "\n",
        "# Raportul de clasificare pentru modelul Word2Vec cu XGBoost\n",
        "print(\"\\nRaportul de clasificare pentru modelul Word2Vec cu XGBoost:\")\n",
        "print(classification_report(y_test, y_pred))"
      ],
      "metadata": {
        "colab": {
          "base_uri": "https://localhost:8080/"
        },
        "id": "bSqh7mxi_We8",
        "outputId": "a50a6505-c1f5-42c9-f869-1d7dc9a90aec"
      },
      "execution_count": null,
      "outputs": [
        {
          "output_type": "stream",
          "name": "stdout",
          "text": [
            "Raportul de clasificare pentru modelul BOW cu XGBoost:\n",
            "              precision    recall  f1-score   support\n",
            "\n",
            "           0       0.91      0.77      0.83       437\n",
            "           1       0.94      0.98      0.96      1551\n",
            "\n",
            "    accuracy                           0.93      1988\n",
            "   macro avg       0.92      0.87      0.89      1988\n",
            "weighted avg       0.93      0.93      0.93      1988\n",
            "\n",
            "\n",
            "Raportul de clasificare pentru modelul Word2Vec cu XGBoost:\n",
            "              precision    recall  f1-score   support\n",
            "\n",
            "           0       0.78      0.66      0.72       437\n",
            "           1       0.91      0.95      0.93      1551\n",
            "\n",
            "    accuracy                           0.88      1988\n",
            "   macro avg       0.84      0.80      0.82      1988\n",
            "weighted avg       0.88      0.88      0.88      1988\n",
            "\n"
          ]
        }
      ]
    },
    {
      "cell_type": "markdown",
      "source": [
        "## Modelul BOW cu XGBoost:\n",
        "Precision: reprezintă rata la care modelele identifică corect exemplele pozitive din totalul predicțiilor. Astfel, pentru clasa 0 (recenziile negative), precizia este 0.91, ceea ce înseamnă că 91% din recenziile identificate ca negative sunt corecte. Pentru clasa 1 (recenziile pozitive), precizia este 0.94, indicând că 94% din recenziile identificate ca pozitive sunt corecte.\n",
        "\n",
        "Recall: Exprimă rata la care modelele identifică corect exemplele pozitive din totalul exemplelor reale pozitive. Pentru clasa 0, recall-ul este 0.77, ceea ce înseamnă că 77% din recenziile reale negative au fost identificate corect. Pentru clasa 1, recall-ul este 0.98, indicând că 98% din recenziile reale pozitive au fost identificate corect.\n",
        "\n",
        "F1-score: Este o măsură care combină precizia și recall-ul într-o singură metrică. Pentru clasa 0, scorul F1 este 0.83, iar pentru clasa 1, scorul F1 este 0.96.\n",
        "\n",
        "Suport: Reprezintă numărul total de exemple din setul de testare pentru fiecare clasă. Astfel, 1551 de exemple aparțin clasei pozitive, iar 437 de exemple aparțin clasei negative.\n",
        "\n",
        "Accuracy: Pentru modelul BOW cu XGBoost, acuratețea este de 93%, ceea ce indică o performanță bună în ceea ce privește clasificarea recenziilor și rating-urilor pozitive și negative ale restaurantelor din SUA. Astfel, modelul nostru a clasificat corect aproximativ 93% din totalul recenziilor.\n",
        "\n",
        "## Modelul Word2Vec cu XGBoost:\n",
        "Precision: Pentru clasa 0 (recenziile negative), precizia este de 0.78. Acest lucru înseamnă că 78% din recenziile identificate ca negative au fost clasificate corect de model.Pentru clasa 1 (recenziile pozitive), precizia este de 0.90. Acest lucru înseamnă că 90% din recenziile identificate ca pozitive au fost clasificate corect de model.\n",
        "\n",
        "Recall: Pentru clasa 0, recall-ul este de 0.64. Acest lucru înseamnă că 64% din recenziile reale negative au fost identificate corect de model. Pentru clasa 1, recall-ul este de 0.95. Acest lucru înseamnă că 95% din recenziile reale pozitive au fost identificate corect de model.\n",
        "\n",
        "F1-score: Pentru clasa 0, scorul F1 este de 0.70.\n",
        "Pentru clasa 1, scorul F1 este de 0.93. Acest scor reflectă o performanță bună a modelului în identificarea recenziilor pozitive.\n",
        "\n",
        "Acuratețea: Acuratețea globală a modelului este de 0.88, ceea ce înseamnă că 88% din totalul recenziilor au fost clasificate corect de model.\n",
        "\n",
        "\n",
        "\n",
        "### Concluzia\n",
        "Modelul BOW cu XGBoost are o acuratețe globală mai mare (0.93) în comparație cu modelul Word2Vec cu XGBoost (0.88). Acest lucru indică faptul că modelul BOW are o capacitate mai mare de a clasifica corect recenziile în general și un scor F1 mai ridicat pentru identificarea recenziilor negative (0.83) în comparație cu modelul Word2Vec cu XGBoost (0.72). Acest lucru sugerează că modelul BOW este mai eficient în identificarea recenziilor negative, ceea ce ar putea fi crucial în contextul industriei serviciilor alimentare, unde feedback-ul negativ poate influența deciziile de afaceri. Mai mult decât atât, performanța globală este mai echilibrată: modelul BOW cu XGBoost obține scoruri F1 ridicate pentru ambele clase (0.83 pentru clasa 0 și 0.96 pentru clasa 1), indicând o performanță echilibrată în identificarea atât a recenziilor negative, cât și a celor pozitive.\n",
        "\n",
        "\n",
        "În concluzie, modelul BOW cu XGBoost pare să ofere o performanță mai robustă și mai consistentă în identificarea și clasificarea recenziilor pentru restaurantele din SUA și este semnificativ în contextul industriei serviciilor alimentare din SUA, evidențiind utilitatea acestui model în înțelegerea și evaluarea experiențelor clienților în restaurante. Prin identificarea corectă a calității serviciilor și a experiențelor oferite de restaurante, acest model poate contribui la îmbunătățirea standardelor de calitate și la satisfacția clienților."
      ],
      "metadata": {
        "id": "VPgNOd2fAdg9"
      }
    }
  ]
}